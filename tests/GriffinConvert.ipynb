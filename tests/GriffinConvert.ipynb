{
 "cells": [
  {
   "attachments": {},
   "cell_type": "markdown",
   "metadata": {},
   "source": [
    "## Workflow of hernan-lab-to-nwb package\n",
    "The purpose of this package is to read various sources and types of data and to wrangle them to the NWB format, specifically after you have collected data and before you have processed data!!! (SEE PICTURE)\n",
    "\n",
    "Additional changes to NWB would require specific user requirements. For example, if you were to segment your calcium imaging data into ROIs, you could add ROI masks to the NWB file, but this code won't do that. \n",
    "\n",
    "This should be run after collecting data!\n",
    "\n",
    "Requirements:\n",
    "1. Anaconda3\n",
    "2. VScode or Spyder (code written in VScode, would recommend)\n",
    "\n",
    "Installation:\n",
    "1. conda create -n decode_lab_env python=3.9\n",
    "2. conda activate decode_lab_env\n",
    "3. git clone https://github.com/JohnStout/hernan-lab-to-nwb \n",
    "4. cd hernan-lab-to-nwb\n",
    "5. pip install - e."
   ]
  },
  {
   "attachments": {},
   "cell_type": "markdown",
   "metadata": {},
   "source": [
    "<img src=\"/Users/js0403/hernan-lab-to-nwb/tests/idealized workflow.png\" />"
   ]
  },
  {
   "attachments": {},
   "cell_type": "markdown",
   "metadata": {},
   "source": [
    "----\n",
    "# Neuralynx\n",
    "Below can be changed as needed to create your nwb files"
   ]
  },
  {
   "cell_type": "code",
   "execution_count": 7,
   "metadata": {},
   "outputs": [],
   "source": [
    "import numpy as np\n",
    "import pandas as pd\n",
    "from hernan_lab_to_nwb.readers import ioreaders\n",
    "from hernan_lab_to_nwb.utils import nwb_utils\n",
    "import os"
   ]
  },
  {
   "cell_type": "code",
   "execution_count": 2,
   "metadata": {},
   "outputs": [
    {
     "name": "stdout",
     "output_type": "stream",
     "text": [
      "OS windows detected\n",
      "Cite Neo https://github.com/NeuralEnsemble/python-neo/blob/master/CITATION.txt\n",
      "Working with CSC\n",
      "Working with TT\n"
     ]
    }
   ],
   "source": [
    "# Define folder path\n",
    "folder_path = r'X:\\01.Experiments\\R21\\21-12\\Sessions\\DA testing\\2021-11-22_11-48-20' # folder path\n",
    "\n",
    "# rats list\n",
    "rats_list = [['21-12', '21-13', '21-14', '21-33', '21-15', '21-16', '21-21', '21-37'] , \n",
    "             ['21-49', '21-55', '21-48'],\n",
    "             ['21-42', '21-43', '21-45'],\n",
    "             ['BabyGroot', 'Meusli','Groot']]\n",
    "\n",
    "# experiment details\n",
    "experiment_details = [['Delayed Alternation BMI Experiment'],\n",
    "                      ['Conditional Discrimination BMI Experiment'],\n",
    "                      ['Optogenetic activation of Ventral Midline thalamus']\n",
    "                      ['Simultaneous PFC tetrode recordings with thalamic and hippocampal LFPs']]\n",
    "\n",
    "# directory  information\n",
    "directory_root = [[r'X:\\01.Experiments\\R21'],\n",
    "                     [r'X:\\01.Experiments\\R21'],\n",
    "                     [r'X:\\01.Experiments\\R21'],\n",
    "                     [r'X:\\01.Experiments\\John n Andrew\\Dual optogenetics w mPFC recordings\\All Subjects - DNMP\\Good performance\\Medial Prefrontal Cortex']]\n",
    "\n",
    "\n",
    "# automated detection of metadata\n",
    "ratname = folder_path.split('R21')[-1].split('\\\\')[1]\n",
    "session = os.path.split(folder_path)[-1]\n",
    "session_notes = os.path.split(os.path.split(folder_path)[0])[-1]\n",
    "\n",
    "# automatic assignment of rats sex\n",
    "if '21-12' in ratname or '21-13' in ratname or '21-14' in ratname or '21-33' in ratname or '21-49' in ratname or '21-55' in ratname:\n",
    "    rats_sex = 'Female'\n",
    "else:\n",
    "    rats_sex = 'Male'\n",
    "print(\"Rat:\",ratname,\" Session:\",session,\" Notes:\",session_notes)\n",
    "\n",
    "# metadata assignment\n",
    "df = pd.DataFrame()\n",
    "df['experimenter name(s)']=[['John Stout', 'Allison George', 'Suhyeong Kim', 'Henry Hallock', 'Amy Griffin']]\n",
    "df['institution']=['University of Delaware']\n",
    "df['lab_name']=['Griffin Lab']\n",
    "df['subject_age']=['>PD90']\n",
    "df['subject_description']=['Rat']\n",
    "df['subject_species/genotype']=['Long Evans Rat']\n",
    "df['recording_device_name']=['Digitalynx SX']\n",
    "df['recording_device_description']=['Cheetah Software']\n",
    "df['recording_device_manufacturer']=['Neuralynx']\n",
    "\n",
    "# TODO: CHANGE ME\n",
    "df['experiment_description']=[experiment_details[i]]\n",
    "df['session_description']   =[session_notes + ' ' + session]\n",
    "df['session_notes']         =[session_notes]\n",
    "df['session_id']            =[session]\n",
    "df['subject_id']            =[rats_list[i][ii]]\n",
    "df['subject_sex']           =[rats_sex]"
   ]
  },
  {
   "cell_type": "code",
   "execution_count": null,
   "metadata": {},
   "outputs": [],
   "source": [
    "# Read data\n",
    "ephys_object = ioreaders.read_nlx(folder_path) # we first instantiate the object\n",
    "ephys_object.read_ephys(opts = 'CSC') # read \n",
    "\n",
    "# tetrode group assignment\n",
    "for i in range(len(ephys_object.csc_grouping_table['TetrodeGroup'])):\n",
    "    # fill out tetrode group\n",
    "    ephys_object.csc_grouping_table['TetrodeGroup'][i] = i+1\n",
    "    # fill out brainregion\n",
    "    if 'HPC' in ephys_object.csc_grouping_table['Name'][i]:\n",
    "        ephys_object.csc_grouping_table['BrainRegion'][i] = 'HPC'\n",
    "    elif 'PFC' in ephys_object.csc_grouping_table['Name'][i]:\n",
    "        ephys_object.csc_grouping_table['BrainRegion'][i] = 'PFC'\n",
    "        \n",
    "ephys_object.csc_grouping_table"
   ]
  },
  {
   "cell_type": "markdown",
   "metadata": {},
   "source": [
    "# Change this based on rat and session"
   ]
  },
  {
   "cell_type": "markdown",
   "metadata": {},
   "source": [
    "# Write NWB file"
   ]
  },
  {
   "cell_type": "code",
   "execution_count": 7,
   "metadata": {},
   "outputs": [
    {
     "name": "stdout",
     "output_type": "stream",
     "text": [
      "Failed to create electrode group. You may only have one channel per group.\n",
      "This make take a few moments if working with a lot of CSC data...\n",
      "Units not added to NWB file\n",
      "Save .nwb file to:  X:\\01.Experiments\\R21\\21-12\\Sessions\\DA testing\\2021-11-22_11-48-20\\nwbfile.nwb\n",
      "Validating X:\\01.Experiments\\R21\\21-12\\Sessions\\DA testing\\2021-11-22_11-48-20\\nwbfile.nwb against cached namespace information using namespace 'core'.\n",
      "NWB validation may be incorrect. Still need an invalid NWB file to check against....10/10/2023\n",
      "No errors detected in NWB file\n"
     ]
    }
   ],
   "source": [
    "ephys_object.write_nwb(metadata=df)"
   ]
  },
  {
   "cell_type": "markdown",
   "metadata": {},
   "source": [
    "# nwbwidgets"
   ]
  },
  {
   "attachments": {},
   "cell_type": "markdown",
   "metadata": {},
   "source": [
    "#### PROOF OF CONVERSION: Pynapple is lovely for loading the NWB file"
   ]
  },
  {
   "cell_type": "code",
   "execution_count": 2,
   "metadata": {},
   "outputs": [
    {
     "name": "stderr",
     "output_type": "stream",
     "text": [
      "c:\\Users\\uggriffin\\anaconda3\\envs\\nwb_env\\lib\\site-packages\\traitlets\\__init__.py:28: DeprecationWarning: \n",
      "            Sentinel is not a public part of the traitlets API.\n",
      "            It was published by mistake, and may be removed in the future.\n",
      "            \n",
      "  warn(\n",
      "c:\\Users\\uggriffin\\anaconda3\\envs\\nwb_env\\lib\\site-packages\\traittypes\\traittypes.py:188: DeprecationWarning: metadata {'dtype': None} was set from the constructor. With traitlets 4.1, metadata should be set using the .tag() method, e.g., Int().tag(key1='value1', key2='value2')\n",
      "  super(DataFrame, self).__init__(\n"
     ]
    }
   ],
   "source": [
    "from nwbwidgets import nwb2widget\n",
    "from pynwb import NWBHDF5IO\n",
    "import os\n",
    "import pynapple as nap\n",
    "import matplotlib.pyplot as plt"
   ]
  },
  {
   "cell_type": "code",
   "execution_count": 3,
   "metadata": {},
   "outputs": [
    {
     "data": {
      "application/vnd.jupyter.widget-view+json": {
       "model_id": "86c9b91670234d70be57139000b2cc2f",
       "version_major": 2,
       "version_minor": 0
      },
      "text/plain": [
       "VBox(children=(HBox(children=(Label(value='session_description:', layout=Layout(max_height='40px', max_width='…"
      ]
     },
     "execution_count": 3,
     "metadata": {},
     "output_type": "execute_result"
    }
   ],
   "source": [
    "folder_path = r'X:\\01.Experiments\\R21\\21-33\\Sessions\\DA testing\\2022-04-21_14-02-29' # folder path\n",
    "io = NWBHDF5IO(os.path.join(folder_path,'nwbfile.nwb'), mode=\"r\")\n",
    "nwbfile = io.read()    \n",
    "nwb2widget(nwbfile)"
   ]
  },
  {
   "cell_type": "code",
   "execution_count": 4,
   "metadata": {},
   "outputs": [
    {
     "name": "stdout",
     "output_type": "stream",
     "text": [
      "nwbfile\n",
      "┍━━━━━━━━━━━━━━━━━━┯━━━━━━━━━━━━━┑\n",
      "│ Keys             │ Type        │\n",
      "┝━━━━━━━━━━━━━━━━━━┿━━━━━━━━━━━━━┥\n",
      "│ trials           │ IntervalSet │\n",
      "│ epochs           │ IntervalSet │\n",
      "│ SpatialSeries    │ TsdFrame    │\n",
      "│ ElectricalSeries │ TsdFrame    │\n",
      "┕━━━━━━━━━━━━━━━━━━┷━━━━━━━━━━━━━┙\n",
      "LFP data:\n",
      "Time (s)              HPC_black    HPC_blue    HPC_green    HPC_red    PFC_blue  ...\n",
      "------------------  -----------  ----------  -----------  ---------  ----------  -----\n",
      "1650550145.459043       40.8325   -117.188       241.699    204.163   -19.4092   ...\n",
      "1650550145.459543       66.8335   -106.384       272.827    226.318    -2.56348  ...\n",
      "1650550145.4600432      74.5239   -107.117       296.265    235.657     1.83105  ...\n",
      "1650550145.4605432      43.2129   -132.385       290.955    213.135   -20.6909   ...\n",
      "1650550145.4610431     -16.2964   -171.387       264.954    170.654   -55.6641   ...\n",
      "...\n",
      "1650553752.1954181     475.159      32.959      -386.536    290.588   144.836    ...\n",
      "1650553752.195918      476.624      34.79       -380.859    297.729   143.921    ...\n",
      "1650553752.196418      489.99       48.3398     -362.183    325.928   159.119    ...\n",
      "1650553752.196918      500.427      57.4951     -344.421    357.971   170.837    ...\n",
      "1650553752.197418      501.343      58.2275     -335.999    378.296   173.584    ...\n",
      "dtype: float64, shape: (7213469, 8)\n"
     ]
    },
    {
     "data": {
      "text/plain": [
       "[<matplotlib.lines.Line2D at 0x17d3cb05b50>]"
      ]
     },
     "execution_count": 4,
     "metadata": {},
     "output_type": "execute_result"
    },
    {
     "data": {
      "image/png": "[encoded data removed]",
      "text/plain": [
       "<Figure size 640x480 with 1 Axes>"
      ]
     },
     "metadata": {},
     "output_type": "display_data"
    }
   ],
   "source": [
    "# load file and print output\n",
    "data = nap.load_file(os.path.join(folder_path,'nwbfile.nwb'))\n",
    "print(data)\n",
    "\n",
    "# print example of LFP data\n",
    "print(\"LFP data:\")\n",
    "print(data['ElectricalSeries'])\n",
    "\n",
    "# plot signal\n",
    "plt.plot(data['ElectricalSeries']['HPC_black'][0:2000])"
   ]
  },
  {
   "cell_type": "code",
   "execution_count": 6,
   "metadata": {},
   "outputs": [
    {
     "name": "stderr",
     "output_type": "stream",
     "text": [
      "c:\\Users\\uggriffin\\anaconda3\\envs\\nwb_env\\lib\\site-packages\\pynapple\\io\\interface_nwb.py:116: UserWarning: Some starts and ends are equal. Removing 1 microsecond!\n",
      "  data[k] = nap.IntervalSet(\n"
     ]
    },
    {
     "data": {
      "text/html": [
       "<div>\n",
       "<style scoped>\n",
       "    .dataframe tbody tr th:only-of-type {\n",
       "        vertical-align: middle;\n",
       "    }\n",
       "\n",
       "    .dataframe tbody tr th {\n",
       "        vertical-align: top;\n",
       "    }\n",
       "\n",
       "    .dataframe thead th {\n",
       "        text-align: right;\n",
       "    }\n",
       "</style>\n",
       "<table border=\"1\" class=\"dataframe\">\n",
       "  <thead>\n",
       "    <tr style=\"text-align: right;\">\n",
       "      <th></th>\n",
       "      <th>start</th>\n",
       "      <th>end</th>\n",
       "    </tr>\n",
       "  </thead>\n",
       "  <tbody>\n",
       "    <tr>\n",
       "      <th>0</th>\n",
       "      <td>1.650550e+09</td>\n",
       "      <td>1.650550e+09</td>\n",
       "    </tr>\n",
       "    <tr>\n",
       "      <th>1</th>\n",
       "      <td>1.650550e+09</td>\n",
       "      <td>1.650550e+09</td>\n",
       "    </tr>\n",
       "    <tr>\n",
       "      <th>2</th>\n",
       "      <td>1.650550e+09</td>\n",
       "      <td>1.650550e+09</td>\n",
       "    </tr>\n",
       "    <tr>\n",
       "      <th>3</th>\n",
       "      <td>1.650550e+09</td>\n",
       "      <td>1.650550e+09</td>\n",
       "    </tr>\n",
       "    <tr>\n",
       "      <th>4</th>\n",
       "      <td>1.650550e+09</td>\n",
       "      <td>1.650550e+09</td>\n",
       "    </tr>\n",
       "    <tr>\n",
       "      <th>...</th>\n",
       "      <td>...</td>\n",
       "      <td>...</td>\n",
       "    </tr>\n",
       "    <tr>\n",
       "      <th>5</th>\n",
       "      <td>1.650554e+09</td>\n",
       "      <td>1.650554e+09</td>\n",
       "    </tr>\n",
       "    <tr>\n",
       "      <th>6</th>\n",
       "      <td>1.650554e+09</td>\n",
       "      <td>1.650554e+09</td>\n",
       "    </tr>\n",
       "    <tr>\n",
       "      <th>7</th>\n",
       "      <td>1.650554e+09</td>\n",
       "      <td>1.650554e+09</td>\n",
       "    </tr>\n",
       "    <tr>\n",
       "      <th>8</th>\n",
       "      <td>1.650554e+09</td>\n",
       "      <td>1.650554e+09</td>\n",
       "    </tr>\n",
       "    <tr>\n",
       "      <th>9</th>\n",
       "      <td>1.650554e+09</td>\n",
       "      <td>1.650554e+09</td>\n",
       "    </tr>\n",
       "  </tbody>\n",
       "</table>\n",
       "<p>308 rows × 2 columns</p>\n",
       "</div>"
      ],
      "text/plain": [
       "            start           end\n",
       "0    1.650550e+09  1.650550e+09\n",
       "1    1.650550e+09  1.650550e+09\n",
       "2    1.650550e+09  1.650550e+09\n",
       "3    1.650550e+09  1.650550e+09\n",
       "4    1.650550e+09  1.650550e+09\n",
       "..            ...           ...\n",
       "303  1.650554e+09  1.650554e+09\n",
       "304  1.650554e+09  1.650554e+09\n",
       "305  1.650554e+09  1.650554e+09\n",
       "306  1.650554e+09  1.650554e+09\n",
       "307  1.650554e+09  1.650554e+09\n",
       "\n",
       "[308 rows x 2 columns]"
      ]
     },
     "execution_count": 6,
     "metadata": {},
     "output_type": "execute_result"
    }
   ],
   "source": [
    "data['trials']"
   ]
  },
  {
   "cell_type": "code",
   "execution_count": null,
   "metadata": {},
   "outputs": [],
   "source": []
  }
 ],
 "metadata": {
  "kernelspec": {
   "display_name": "decode_lab_env",
   "language": "python",
   "name": "python3"
  },
  "language_info": {
   "codemirror_mode": {
    "name": "ipython",
    "version": 3
   },
   "file_extension": ".py",
   "mimetype": "text/x-python",
   "name": "python",
   "nbconvert_exporter": "python",
   "pygments_lexer": "ipython3",
   "version": "3.9.18"
  }
 },
 "nbformat": 4,
 "nbformat_minor": 2
}
