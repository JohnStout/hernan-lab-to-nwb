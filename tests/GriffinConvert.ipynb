{
 "cells": [
  {
   "attachments": {},
   "cell_type": "markdown",
   "metadata": {},
   "source": [
    "## Workflow of hernan-lab-to-nwb package\n",
    "The purpose of this package is to read various sources and types of data and to wrangle them to the NWB format, specifically after you have collected data and before you have processed data!!! (SEE PICTURE)\n",
    "\n",
    "Additional changes to NWB would require specific user requirements. For example, if you were to segment your calcium imaging data into ROIs, you could add ROI masks to the NWB file, but this code won't do that. \n",
    "\n",
    "This should be run after collecting data!\n",
    "\n",
    "Requirements:\n",
    "1. Anaconda3\n",
    "2. VScode or Spyder (code written in VScode, would recommend)\n",
    "\n",
    "Installation:\n",
    "1. conda create -n decode_lab_env python=3.9\n",
    "2. conda activate decode_lab_env\n",
    "3. git clone https://github.com/JohnStout/hernan-lab-to-nwb \n",
    "4. cd hernan-lab-to-nwb\n",
    "5. pip install - e."
   ]
  },
  {
   "attachments": {},
   "cell_type": "markdown",
   "metadata": {},
   "source": [
    "<img src=\"/Users/js0403/hernan-lab-to-nwb/tests/idealized workflow.png\" />"
   ]
  },
  {
   "attachments": {},
   "cell_type": "markdown",
   "metadata": {},
   "source": [
    "----\n",
    "# Neuralynx\n",
    "Below can be changed as needed to create your nwb files"
   ]
  },
  {
   "cell_type": "code",
   "execution_count": 9,
   "metadata": {},
   "outputs": [],
   "source": [
    "import numpy as np\n",
    "import pandas as pd"
   ]
  },
  {
   "cell_type": "code",
   "execution_count": 1,
   "metadata": {},
   "outputs": [
    {
     "name": "stdout",
     "output_type": "stream",
     "text": [
      "OS windows detected\n",
      "Cite Neo https://github.com/NeuralEnsemble/python-neo/blob/master/CITATION.txt\n",
      "Working with CSC\n",
      "Working with TT\n"
     ]
    }
   ],
   "source": [
    "# load packages\n",
    "from hernan_lab_to_nwb.readers import ioreaders\n",
    "from hernan_lab_to_nwb.utils import nwb_utils\n",
    "\n",
    "# Define folder path\n",
    "folder_path = r'X:\\01.Experiments\\R21\\21-12\\Sessions\\DA testing\\2021-11-22_11-48-20' # folder path\n",
    "\n",
    "# Read data\n",
    "ephys_object = ioreaders.read_nlx(folder_path) # we first instantiate the object\n",
    "ephys_object.read_ephys() # read data"
   ]
  },
  {
   "cell_type": "code",
   "execution_count": 10,
   "metadata": {},
   "outputs": [
    {
     "data": {
      "text/html": [
       "<div>\n",
       "<style scoped>\n",
       "    .dataframe tbody tr th:only-of-type {\n",
       "        vertical-align: middle;\n",
       "    }\n",
       "\n",
       "    .dataframe tbody tr th {\n",
       "        vertical-align: top;\n",
       "    }\n",
       "\n",
       "    .dataframe thead th {\n",
       "        text-align: right;\n",
       "    }\n",
       "</style>\n",
       "<table border=\"1\" class=\"dataframe\">\n",
       "  <thead>\n",
       "    <tr style=\"text-align: right;\">\n",
       "      <th></th>\n",
       "      <th>Name</th>\n",
       "      <th>TetrodeGroup</th>\n",
       "      <th>BrainRegion</th>\n",
       "      <th>Inclusion</th>\n",
       "    </tr>\n",
       "  </thead>\n",
       "  <tbody>\n",
       "    <tr>\n",
       "      <th>0</th>\n",
       "      <td>HPC_black.ncs</td>\n",
       "      <td>1</td>\n",
       "      <td>[]</td>\n",
       "      <td>True</td>\n",
       "    </tr>\n",
       "    <tr>\n",
       "      <th>1</th>\n",
       "      <td>HPC_blue.ncs</td>\n",
       "      <td>2</td>\n",
       "      <td>[]</td>\n",
       "      <td>True</td>\n",
       "    </tr>\n",
       "    <tr>\n",
       "      <th>2</th>\n",
       "      <td>HPC_green.ncs</td>\n",
       "      <td>3</td>\n",
       "      <td>[]</td>\n",
       "      <td>True</td>\n",
       "    </tr>\n",
       "    <tr>\n",
       "      <th>3</th>\n",
       "      <td>HPC_red.ncs</td>\n",
       "      <td>4</td>\n",
       "      <td>[]</td>\n",
       "      <td>True</td>\n",
       "    </tr>\n",
       "    <tr>\n",
       "      <th>4</th>\n",
       "      <td>PFC_blue.ncs</td>\n",
       "      <td>5</td>\n",
       "      <td>[]</td>\n",
       "      <td>True</td>\n",
       "    </tr>\n",
       "    <tr>\n",
       "      <th>5</th>\n",
       "      <td>PFC_red.ncs</td>\n",
       "      <td>6</td>\n",
       "      <td>[]</td>\n",
       "      <td>True</td>\n",
       "    </tr>\n",
       "  </tbody>\n",
       "</table>\n",
       "</div>"
      ],
      "text/plain": [
       "            Name  TetrodeGroup BrainRegion  Inclusion\n",
       "0  HPC_black.ncs             1          []       True\n",
       "1   HPC_blue.ncs             2          []       True\n",
       "2  HPC_green.ncs             3          []       True\n",
       "3    HPC_red.ncs             4          []       True\n",
       "4   PFC_blue.ncs             5          []       True\n",
       "5    PFC_red.ncs             6          []       True"
      ]
     },
     "execution_count": 10,
     "metadata": {},
     "output_type": "execute_result"
    }
   ],
   "source": [
    "ephys_object.csc_grouping_table\n"
   ]
  },
  {
   "cell_type": "code",
   "execution_count": 18,
   "metadata": {},
   "outputs": [
    {
     "name": "stderr",
     "output_type": "stream",
     "text": [
      "C:\\Users\\uggriffin\\AppData\\Local\\Temp\\ipykernel_20180\\1491044043.py:3: SettingWithCopyWarning: \n",
      "A value is trying to be set on a copy of a slice from a DataFrame\n",
      "\n",
      "See the caveats in the documentation: https://pandas.pydata.org/pandas-docs/stable/user_guide/indexing.html#returning-a-view-versus-a-copy\n",
      "  ephys_object.csc_grouping_table['TetrodeGroup'][i] = i+1\n",
      "C:\\Users\\uggriffin\\AppData\\Local\\Temp\\ipykernel_20180\\1491044043.py:6: SettingWithCopyWarning: \n",
      "A value is trying to be set on a copy of a slice from a DataFrame\n",
      "\n",
      "See the caveats in the documentation: https://pandas.pydata.org/pandas-docs/stable/user_guide/indexing.html#returning-a-view-versus-a-copy\n",
      "  ephys_object.csc_grouping_table['BrainRegion'][i] = 'HPC'\n",
      "C:\\Users\\uggriffin\\AppData\\Local\\Temp\\ipykernel_20180\\1491044043.py:8: SettingWithCopyWarning: \n",
      "A value is trying to be set on a copy of a slice from a DataFrame\n",
      "\n",
      "See the caveats in the documentation: https://pandas.pydata.org/pandas-docs/stable/user_guide/indexing.html#returning-a-view-versus-a-copy\n",
      "  ephys_object.csc_grouping_table['BrainRegion'][i] = 'PFC'\n"
     ]
    },
    {
     "data": {
      "text/html": [
       "<div>\n",
       "<style scoped>\n",
       "    .dataframe tbody tr th:only-of-type {\n",
       "        vertical-align: middle;\n",
       "    }\n",
       "\n",
       "    .dataframe tbody tr th {\n",
       "        vertical-align: top;\n",
       "    }\n",
       "\n",
       "    .dataframe thead th {\n",
       "        text-align: right;\n",
       "    }\n",
       "</style>\n",
       "<table border=\"1\" class=\"dataframe\">\n",
       "  <thead>\n",
       "    <tr style=\"text-align: right;\">\n",
       "      <th></th>\n",
       "      <th>Name</th>\n",
       "      <th>TetrodeGroup</th>\n",
       "      <th>BrainRegion</th>\n",
       "      <th>Inclusion</th>\n",
       "    </tr>\n",
       "  </thead>\n",
       "  <tbody>\n",
       "    <tr>\n",
       "      <th>0</th>\n",
       "      <td>HPC_black.ncs</td>\n",
       "      <td>1</td>\n",
       "      <td>HPC</td>\n",
       "      <td>True</td>\n",
       "    </tr>\n",
       "    <tr>\n",
       "      <th>1</th>\n",
       "      <td>HPC_blue.ncs</td>\n",
       "      <td>2</td>\n",
       "      <td>HPC</td>\n",
       "      <td>True</td>\n",
       "    </tr>\n",
       "    <tr>\n",
       "      <th>2</th>\n",
       "      <td>HPC_green.ncs</td>\n",
       "      <td>3</td>\n",
       "      <td>HPC</td>\n",
       "      <td>True</td>\n",
       "    </tr>\n",
       "    <tr>\n",
       "      <th>3</th>\n",
       "      <td>HPC_red.ncs</td>\n",
       "      <td>4</td>\n",
       "      <td>HPC</td>\n",
       "      <td>True</td>\n",
       "    </tr>\n",
       "    <tr>\n",
       "      <th>4</th>\n",
       "      <td>PFC_blue.ncs</td>\n",
       "      <td>5</td>\n",
       "      <td>PFC</td>\n",
       "      <td>True</td>\n",
       "    </tr>\n",
       "    <tr>\n",
       "      <th>5</th>\n",
       "      <td>PFC_red.ncs</td>\n",
       "      <td>6</td>\n",
       "      <td>PFC</td>\n",
       "      <td>True</td>\n",
       "    </tr>\n",
       "  </tbody>\n",
       "</table>\n",
       "</div>"
      ],
      "text/plain": [
       "            Name  TetrodeGroup BrainRegion  Inclusion\n",
       "0  HPC_black.ncs             1         HPC       True\n",
       "1   HPC_blue.ncs             2         HPC       True\n",
       "2  HPC_green.ncs             3         HPC       True\n",
       "3    HPC_red.ncs             4         HPC       True\n",
       "4   PFC_blue.ncs             5         PFC       True\n",
       "5    PFC_red.ncs             6         PFC       True"
      ]
     },
     "execution_count": 18,
     "metadata": {},
     "output_type": "execute_result"
    }
   ],
   "source": [
    "for i in range(len(ephys_object.csc_grouping_table['TetrodeGroup'])):\n",
    "    # fill out tetrode group\n",
    "    ephys_object.csc_grouping_table['TetrodeGroup'][i] = i+1\n",
    "    # fill out brainregion\n",
    "    if 'HPC' in ephys_object.csc_grouping_table['Name'][i]:\n",
    "        ephys_object.csc_grouping_table['BrainRegion'][i] = 'HPC'\n",
    "    elif 'PFC' in ephys_object.csc_grouping_table['Name'][i]:\n",
    "        ephys_object.csc_grouping_table['BrainRegion'][i] = 'PFC'\n",
    "\n",
    "ephys_object.csc_grouping_table"
   ]
  },
  {
   "cell_type": "code",
   "execution_count": 1,
   "metadata": {},
   "outputs": [
    {
     "ename": "NameError",
     "evalue": "name 'pd' is not defined",
     "output_type": "error",
     "traceback": [
      "\u001b[1;31m---------------------------------------------------------------------------\u001b[0m",
      "\u001b[1;31mNameError\u001b[0m                                 Traceback (most recent call last)",
      "Cell \u001b[1;32mIn[1], line 1\u001b[0m\n\u001b[1;32m----> 1\u001b[0m df \u001b[38;5;241m=\u001b[39m \u001b[43mpd\u001b[49m\u001b[38;5;241m.\u001b[39mDataFrame()\n\u001b[0;32m      2\u001b[0m df[\u001b[38;5;124m'\u001b[39m\u001b[38;5;124mexperiment_description\u001b[39m\u001b[38;5;124m'\u001b[39m]\u001b[38;5;241m=\u001b[39m[\u001b[38;5;124m'\u001b[39m\u001b[38;5;124mTrigger trials based on PFC-HPC coherence\u001b[39m\u001b[38;5;124m'\u001b[39m]\n\u001b[0;32m      3\u001b[0m df[\u001b[38;5;124m'\u001b[39m\u001b[38;5;124mexperimenter name(s)\u001b[39m\u001b[38;5;124m'\u001b[39m]\u001b[38;5;241m=\u001b[39m[[\u001b[38;5;124m'\u001b[39m\u001b[38;5;124mJohn Stout\u001b[39m\u001b[38;5;124m'\u001b[39m, \u001b[38;5;124m'\u001b[39m\u001b[38;5;124mAllison George\u001b[39m\u001b[38;5;124m'\u001b[39m, \u001b[38;5;124m'\u001b[39m\u001b[38;5;124mSuhyeong Kim\u001b[39m\u001b[38;5;124m'\u001b[39m, \u001b[38;5;124m'\u001b[39m\u001b[38;5;124mHenry Hallock\u001b[39m\u001b[38;5;124m'\u001b[39m, \u001b[38;5;124m'\u001b[39m\u001b[38;5;124mAmy Griffin\u001b[39m\u001b[38;5;124m'\u001b[39m]]\n",
      "\u001b[1;31mNameError\u001b[0m: name 'pd' is not defined"
     ]
    }
   ],
   "source": [
    "df = pd.DataFrame()\n",
    "df['experiment_description']=['Trigger trials based on PFC-HPC coherence']\n",
    "df['experimenter name(s)']=[['John Stout', 'Allison George', 'Suhyeong Kim', 'Henry Hallock', 'Amy Griffin']]\n",
    "df['institution']=['University of Delaware']\n",
    "df['lab_name']=['Griffin Lab']\n",
    "df['subject_age']=['>PD90']\n",
    "df['subject_description']=['Rat']\n",
    "df['subject_species/genotype']=['Long Evans Rat']\n",
    "df['recording_device_name']=['Digitalynx SX']\n",
    "df['recording_device_description']=['Cheetah Software']\n",
    "df['recording_device_manufacturer']=['Neuralynx']"
   ]
  },
  {
   "cell_type": "code",
   "execution_count": null,
   "metadata": {},
   "outputs": [],
   "source": [
    "df['session_description']=['Testing Session #1']\n",
    "df['session_notes']=['NA']\n",
    "df['session_id']=['Session1']\n",
    "df['subject_id']=['21-12']\n",
    "df['subject_sex']=['F']"
   ]
  },
  {
   "cell_type": "code",
   "execution_count": null,
   "metadata": {},
   "outputs": [],
   "source": [
    "\n",
    "# Edit pandas array dynamically\n",
    "_, ephys_object.csc_grouping_table = nwb_utils.pandas_excel_interactive(dir = ephys_object.folder_path, df = ephys_object.csc_grouping_table)\n",
    "_, ephys_object.tt_grouping_table = nwb_utils.pandas_excel_interactive(dir = ephys_object.folder_path, df = ephys_object.tt_grouping_table)\n",
    "\n",
    "# write file\n",
    "ephys_object.write_nwb()"
   ]
  },
  {
   "attachments": {},
   "cell_type": "markdown",
   "metadata": {},
   "source": [
    "#### PROOF OF CONVERSION: Pynapple is lovely for loading the NWB file"
   ]
  },
  {
   "cell_type": "code",
   "execution_count": 26,
   "metadata": {},
   "outputs": [
    {
     "name": "stdout",
     "output_type": "stream",
     "text": [
      "nwbfile\n",
      "┍━━━━━━━━━━━━━━━━━━┯━━━━━━━━━━━━━┑\n",
      "│ Keys             │ Type        │\n",
      "┝━━━━━━━━━━━━━━━━━━┿━━━━━━━━━━━━━┥\n",
      "│ units            │ TsGroup     │\n",
      "│ epochs           │ IntervalSet │\n",
      "│ ElectricalSeries │ TsdFrame    │\n",
      "┕━━━━━━━━━━━━━━━━━━┷━━━━━━━━━━━━━┙\n",
      "Unit data:\n",
      "  Index    rate  quality    location\n",
      "-------  ------  ---------  ----------\n",
      "      0    5.85  good       PFC\n",
      "      1    0.08  good       PFC\n",
      "      2    2.02  good       PFC\n",
      "      3    0.17  good       PFC\n",
      "      4    0.7   good       PFC\n",
      "      5    6.01  good       PFC\n",
      "      6    8.05  good       PFC\n",
      "      7    0.12  good       PFC\n",
      "      8    0.35  good       PFC\n",
      "      9    1.2   good       PFC\n",
      "     10    0.07  good       PFC\n",
      "     11    2.8   good       PFC\n",
      "     12    0.14  good       PFC\n",
      "     13    0.29  good       PFC\n",
      "     14    0.72  good       PFC\n",
      "     15    2.9   good       PFC\n",
      "     16    0.06  good       PFC\n",
      "     17    3.93  good       PFC\n",
      "     18    0.76  good       PFC\n",
      "     19    2.1   good       PFC\n",
      "     20    1.53  good       PFC\n",
      "     21    2.74  good       PFC\n",
      "     22    0.36  good       PFC\n",
      "LFP data:\n",
      "Time (s)            CSC1        CSC2      CSC3       CSC4        CSC5  ...\n",
      "-------------  ---------  ----------  --------  ---------  ----------  -----\n",
      "8145.353771    -22.7973   -26.4595    -18.5247  -25.8492     8.72829   ...\n",
      "8145.35380225  -25.5135   -28.2296    -16.1138  -26.2764    24.2012    ...\n",
      "8145.3538335   -17.3345   -29.4198    -17.7007  -27.1004    20.1117    ...\n",
      "8145.35386475   -6.89718  -29.2367    -20.3558  -27.7718     1.67852   ...\n",
      "8145.353896     -9.49126  -29.7861    -23.896   -27.8939   -12.3905    ...\n",
      "...\n",
      "9466.121646     -2.07526   -0.854518  -25.7271    8.39259   -2.65511   ...\n",
      "9466.12167725   -1.06815   -5.34074   -26.1238    7.32444   -3.41807   ...\n",
      "9466.1217085     1.03763   -9.61333   -22.3701    6.95822   -3.17393   ...\n",
      "9466.12173975    2.28889  -15.8696    -15.5034    9.36918   -0.824     ...\n",
      "9466.121771     -6.13422  -32.0139    -20.7526    6.04267    0.701926  ...\n",
      "dtype: float64, shape: (40848770, 16)\n"
     ]
    },
    {
     "data": {
      "text/plain": [
       "[<matplotlib.lines.Line2D at 0x2c0c56250>]"
      ]
     },
     "execution_count": 26,
     "metadata": {},
     "output_type": "execute_result"
    },
    {
     "data": {
      "image/png": "[encoded data removed]",
      "text/plain": [
       "<Figure size 640x480 with 1 Axes>"
      ]
     },
     "metadata": {},
     "output_type": "display_data"
    }
   ],
   "source": [
    "import pynapple as nap\n",
    "import matplotlib.pyplot as plt\n",
    "\n",
    "# load file and print output\n",
    "data = nap.load_file(r'/Users/js0403/local data/2020-06-26_16-56-10 9&10eb male ACTH ELS/nwbfile.nwb')\n",
    "print(data)\n",
    "\n",
    "# print example of unit data\n",
    "print(\"Unit data:\")\n",
    "print(data['units'])\n",
    "\n",
    "# print example of LFP data\n",
    "print(\"LFP data:\")\n",
    "print(data['ElectricalSeries'])\n",
    "\n",
    "# plot signal\n",
    "plt.plot(data['ElectricalSeries']['CSC1'][0:32000])"
   ]
  }
 ],
 "metadata": {
  "kernelspec": {
   "display_name": "decode_lab_env",
   "language": "python",
   "name": "python3"
  },
  "language_info": {
   "codemirror_mode": {
    "name": "ipython",
    "version": 3
   },
   "file_extension": ".py",
   "mimetype": "text/x-python",
   "name": "python",
   "nbconvert_exporter": "python",
   "pygments_lexer": "ipython3",
   "version": "3.9.18"
  }
 },
 "nbformat": 4,
 "nbformat_minor": 2
}
