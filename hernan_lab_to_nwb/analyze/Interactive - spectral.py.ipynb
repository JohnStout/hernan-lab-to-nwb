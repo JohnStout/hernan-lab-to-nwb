{
 "cells": [
  {
   "cell_type": "code",
   "execution_count": 1,
   "metadata": {},
   "outputs": [
    {
     "name": "stdout",
     "output_type": "stream",
     "text": [
      "Cite pynwb, neo, and CatalystNeuro team\n",
      "Please note, if there are multiple start/stops, more data is collected after a stopping recording. You must trim the CSC.\n",
      "TODO: MUST CHECK ALL SLICING FOR [a:b], MUST BE [a::b]\n"
     ]
    }
   ],
   "source": [
    "from scipy.signal import welch\n",
    "from decode_lab_code.readers.ioreaders import load_nwb\n",
    "import matplotlib.pyplot as plt\n",
    "import numpy as np\n",
    "import pynapple as nap\n",
    "from decode_lab_code.core.base import base\n",
    "from decode_lab_code.readers.ioreaders import read_nlx\n",
    "import pandas as pd"
   ]
  },
  {
   "cell_type": "code",
   "execution_count": 2,
   "metadata": {},
   "outputs": [
    {
     "name": "stdout",
     "output_type": "stream",
     "text": [
      "Cite Pynapple and PYNWB\n"
     ]
    }
   ],
   "source": [
    "from decode_lab_code.analyze.spectral import spectral"
   ]
  },
  {
   "cell_type": "code",
   "execution_count": 3,
   "metadata": {},
   "outputs": [],
   "source": [
    "nwbpath = '/Users/js0403/local data/2020-06-26_16-56-10 9&10eb male ACTH ELS/nwbfile.nwb'"
   ]
  },
  {
   "cell_type": "code",
   "execution_count": 4,
   "metadata": {},
   "outputs": [
    {
     "name": "stdout",
     "output_type": "stream",
     "text": [
      "     start_time    stop_time    tags\n",
      "id                                  \n",
      "0   8145.353771  8446.868771  [rec0]\n",
      "1   8491.112771  9466.121771  [rec1]\n",
      "Reformatting CSC pandas series (TsdFrame). This may take a few minutes...\n"
     ]
    },
    {
     "name": "stderr",
     "output_type": "stream",
     "text": [
      "/Users/js0403/anaconda3/envs/decode_lab_env/lib/python3.9/site-packages/pandas/core/dtypes/cast.py:1641: DeprecationWarning: np.find_common_type is deprecated.  Please use `np.result_type` or `np.promote_types`.\n",
      "See https://numpy.org/devdocs/release/1.25.0-notes.html and the docs for more information.  (Deprecated NumPy 1.25)\n",
      "  return np.find_common_type(types, [])\n",
      "/Users/js0403/anaconda3/envs/decode_lab_env/lib/python3.9/site-packages/pandas/core/dtypes/cast.py:1641: DeprecationWarning: np.find_common_type is deprecated.  Please use `np.result_type` or `np.promote_types`.\n",
      "See https://numpy.org/devdocs/release/1.25.0-notes.html and the docs for more information.  (Deprecated NumPy 1.25)\n",
      "  return np.find_common_type(types, [])\n"
     ]
    },
    {
     "ename": "KeyboardInterrupt",
     "evalue": "",
     "output_type": "error",
     "traceback": [
      "\u001b[0;31m---------------------------------------------------------------------------\u001b[0m",
      "\u001b[0;31mKeyboardInterrupt\u001b[0m                         Traceback (most recent call last)",
      "\u001b[1;32m/Users/js0403/decode_lab_code/src/decode_lab_code/analyze/spectral.py\u001b[0m in \u001b[0;36mline 1\n\u001b[0;32m----> <a href='file:///Users/js0403/decode_lab_code/src/decode_lab_code/analyze/spectral.py?line=31'>32</a>\u001b[0m \u001b[39mself\u001b[39m \u001b[39m=\u001b[39m spectral(nwbpath)\n",
      "File \u001b[0;32m~/decode_lab_code/src/decode_lab_code/analyze/spectral.py:107\u001b[0m, in \u001b[0;36mspectral.__init__\u001b[0;34m(self, nwbpath)\u001b[0m\n\u001b[1;32m    <a href='file:///Users/js0403/decode_lab_code/src/decode_lab_code/analyze/spectral.py?line=104'>105</a>\u001b[0m     \u001b[39mself\u001b[39m\u001b[39m.\u001b[39mcsc_data[\u001b[39m'\u001b[39m\u001b[39mRecording\u001b[39m\u001b[39m'\u001b[39m\u001b[39m+\u001b[39m\u001b[39mstr\u001b[39m(i\u001b[39m+\u001b[39m\u001b[39m1\u001b[39m)]\u001b[39m.\u001b[39minsert(loc\u001b[39m=\u001b[39m\u001b[39m0\u001b[39m,column\u001b[39m=\u001b[39m\u001b[39m\"\u001b[39m\u001b[39mTime (sec)\u001b[39m\u001b[39m\"\u001b[39m,value\u001b[39m=\u001b[39mtemp_time)\n\u001b[1;32m    <a href='file:///Users/js0403/decode_lab_code/src/decode_lab_code/analyze/spectral.py?line=105'>106</a>\u001b[0m     \u001b[39mself\u001b[39m\u001b[39m.\u001b[39mcsc_data[\u001b[39m'\u001b[39m\u001b[39mRecording\u001b[39m\u001b[39m'\u001b[39m\u001b[39m+\u001b[39m\u001b[39mstr\u001b[39m(i\u001b[39m+\u001b[39m\u001b[39m1\u001b[39m)]\u001b[39m=\u001b[39m\u001b[39mself\u001b[39m\u001b[39m.\u001b[39mcsc_data[\u001b[39m'\u001b[39m\u001b[39mRecording\u001b[39m\u001b[39m'\u001b[39m\u001b[39m+\u001b[39m\u001b[39mstr\u001b[39m(i\u001b[39m+\u001b[39m\u001b[39m1\u001b[39m)]\u001b[39m.\u001b[39mreset_index()\n\u001b[0;32m--> <a href='file:///Users/js0403/decode_lab_code/src/decode_lab_code/analyze/spectral.py?line=106'>107</a>\u001b[0m     \u001b[39mself\u001b[39m\u001b[39m.\u001b[39mcsc_data[\u001b[39m'\u001b[39m\u001b[39mRecording\u001b[39m\u001b[39m'\u001b[39m\u001b[39m+\u001b[39m\u001b[39mstr\u001b[39m(i\u001b[39m+\u001b[39m\u001b[39m1\u001b[39m)]\u001b[39m=\u001b[39m\u001b[39mself\u001b[39;49m\u001b[39m.\u001b[39;49mcsc_data[\u001b[39m'\u001b[39;49m\u001b[39mRecording\u001b[39;49m\u001b[39m'\u001b[39;49m\u001b[39m+\u001b[39;49m\u001b[39mstr\u001b[39;49m(i\u001b[39m+\u001b[39;49m\u001b[39m1\u001b[39;49m)]\u001b[39m.\u001b[39;49mset_index([\u001b[39m'\u001b[39;49m\u001b[39mTime (sec)\u001b[39;49m\u001b[39m'\u001b[39;49m, \u001b[39m'\u001b[39;49m\u001b[39mTime (neuralynx)\u001b[39;49m\u001b[39m'\u001b[39;49m])\n\u001b[1;32m    <a href='file:///Users/js0403/decode_lab_code/src/decode_lab_code/analyze/spectral.py?line=108'>109</a>\u001b[0m \u001b[39m# save history\u001b[39;00m\n\u001b[1;32m    <a href='file:///Users/js0403/decode_lab_code/src/decode_lab_code/analyze/spectral.py?line=109'>110</a>\u001b[0m \u001b[39mself\u001b[39m\u001b[39m.\u001b[39mhistory \u001b[39m=\u001b[39m []\n",
      "File \u001b[0;32m~/anaconda3/envs/decode_lab_env/lib/python3.9/site-packages/pandas/util/_decorators.py:331\u001b[0m, in \u001b[0;36mdeprecate_nonkeyword_arguments.<locals>.decorate.<locals>.wrapper\u001b[0;34m(*args, **kwargs)\u001b[0m\n\u001b[1;32m    <a href='file:///Users/js0403/anaconda3/envs/decode_lab_env/lib/python3.9/site-packages/pandas/util/_decorators.py?line=324'>325</a>\u001b[0m \u001b[39mif\u001b[39;00m \u001b[39mlen\u001b[39m(args) \u001b[39m>\u001b[39m num_allow_args:\n\u001b[1;32m    <a href='file:///Users/js0403/anaconda3/envs/decode_lab_env/lib/python3.9/site-packages/pandas/util/_decorators.py?line=325'>326</a>\u001b[0m     warnings\u001b[39m.\u001b[39mwarn(\n\u001b[1;32m    <a href='file:///Users/js0403/anaconda3/envs/decode_lab_env/lib/python3.9/site-packages/pandas/util/_decorators.py?line=326'>327</a>\u001b[0m         msg\u001b[39m.\u001b[39mformat(arguments\u001b[39m=\u001b[39m_format_argument_list(allow_args)),\n\u001b[1;32m    <a href='file:///Users/js0403/anaconda3/envs/decode_lab_env/lib/python3.9/site-packages/pandas/util/_decorators.py?line=327'>328</a>\u001b[0m         \u001b[39mFutureWarning\u001b[39;00m,\n\u001b[1;32m    <a href='file:///Users/js0403/anaconda3/envs/decode_lab_env/lib/python3.9/site-packages/pandas/util/_decorators.py?line=328'>329</a>\u001b[0m         stacklevel\u001b[39m=\u001b[39mfind_stack_level(),\n\u001b[1;32m    <a href='file:///Users/js0403/anaconda3/envs/decode_lab_env/lib/python3.9/site-packages/pandas/util/_decorators.py?line=329'>330</a>\u001b[0m     )\n\u001b[0;32m--> <a href='file:///Users/js0403/anaconda3/envs/decode_lab_env/lib/python3.9/site-packages/pandas/util/_decorators.py?line=330'>331</a>\u001b[0m \u001b[39mreturn\u001b[39;00m func(\u001b[39m*\u001b[39;49margs, \u001b[39m*\u001b[39;49m\u001b[39m*\u001b[39;49mkwargs)\n",
      "File \u001b[0;32m~/anaconda3/envs/decode_lab_env/lib/python3.9/site-packages/pandas/core/frame.py:6067\u001b[0m, in \u001b[0;36mDataFrame.set_index\u001b[0;34m(self, keys, drop, append, inplace, verify_integrity)\u001b[0m\n\u001b[1;32m   <a href='file:///Users/js0403/anaconda3/envs/decode_lab_env/lib/python3.9/site-packages/pandas/core/frame.py?line=6058'>6059</a>\u001b[0m     \u001b[39mif\u001b[39;00m \u001b[39mlen\u001b[39m(arrays[\u001b[39m-\u001b[39m\u001b[39m1\u001b[39m]) \u001b[39m!=\u001b[39m \u001b[39mlen\u001b[39m(\u001b[39mself\u001b[39m):\n\u001b[1;32m   <a href='file:///Users/js0403/anaconda3/envs/decode_lab_env/lib/python3.9/site-packages/pandas/core/frame.py?line=6059'>6060</a>\u001b[0m         \u001b[39m# check newest element against length of calling frame, since\u001b[39;00m\n\u001b[1;32m   <a href='file:///Users/js0403/anaconda3/envs/decode_lab_env/lib/python3.9/site-packages/pandas/core/frame.py?line=6060'>6061</a>\u001b[0m         \u001b[39m# ensure_index_from_sequences would not raise for append=False.\u001b[39;00m\n\u001b[1;32m   <a href='file:///Users/js0403/anaconda3/envs/decode_lab_env/lib/python3.9/site-packages/pandas/core/frame.py?line=6061'>6062</a>\u001b[0m         \u001b[39mraise\u001b[39;00m \u001b[39mValueError\u001b[39;00m(\n\u001b[1;32m   <a href='file:///Users/js0403/anaconda3/envs/decode_lab_env/lib/python3.9/site-packages/pandas/core/frame.py?line=6062'>6063</a>\u001b[0m             \u001b[39mf\u001b[39m\u001b[39m\"\u001b[39m\u001b[39mLength mismatch: Expected \u001b[39m\u001b[39m{\u001b[39;00m\u001b[39mlen\u001b[39m(\u001b[39mself\u001b[39m)\u001b[39m}\u001b[39;00m\u001b[39m rows, \u001b[39m\u001b[39m\"\u001b[39m\n\u001b[1;32m   <a href='file:///Users/js0403/anaconda3/envs/decode_lab_env/lib/python3.9/site-packages/pandas/core/frame.py?line=6063'>6064</a>\u001b[0m             \u001b[39mf\u001b[39m\u001b[39m\"\u001b[39m\u001b[39mreceived array of length \u001b[39m\u001b[39m{\u001b[39;00m\u001b[39mlen\u001b[39m(arrays[\u001b[39m-\u001b[39m\u001b[39m1\u001b[39m])\u001b[39m}\u001b[39;00m\u001b[39m\"\u001b[39m\n\u001b[1;32m   <a href='file:///Users/js0403/anaconda3/envs/decode_lab_env/lib/python3.9/site-packages/pandas/core/frame.py?line=6064'>6065</a>\u001b[0m         )\n\u001b[0;32m-> <a href='file:///Users/js0403/anaconda3/envs/decode_lab_env/lib/python3.9/site-packages/pandas/core/frame.py?line=6066'>6067</a>\u001b[0m index \u001b[39m=\u001b[39m ensure_index_from_sequences(arrays, names)\n\u001b[1;32m   <a href='file:///Users/js0403/anaconda3/envs/decode_lab_env/lib/python3.9/site-packages/pandas/core/frame.py?line=6068'>6069</a>\u001b[0m \u001b[39mif\u001b[39;00m verify_integrity \u001b[39mand\u001b[39;00m \u001b[39mnot\u001b[39;00m index\u001b[39m.\u001b[39mis_unique:\n\u001b[1;32m   <a href='file:///Users/js0403/anaconda3/envs/decode_lab_env/lib/python3.9/site-packages/pandas/core/frame.py?line=6069'>6070</a>\u001b[0m     duplicates \u001b[39m=\u001b[39m index[index\u001b[39m.\u001b[39mduplicated()]\u001b[39m.\u001b[39munique()\n",
      "File \u001b[0;32m~/anaconda3/envs/decode_lab_env/lib/python3.9/site-packages/pandas/core/indexes/base.py:7274\u001b[0m, in \u001b[0;36mensure_index_from_sequences\u001b[0;34m(sequences, names)\u001b[0m\n\u001b[1;32m   <a href='file:///Users/js0403/anaconda3/envs/decode_lab_env/lib/python3.9/site-packages/pandas/core/indexes/base.py?line=7271'>7272</a>\u001b[0m     \u001b[39mreturn\u001b[39;00m Index\u001b[39m.\u001b[39m_with_infer(sequences[\u001b[39m0\u001b[39m], name\u001b[39m=\u001b[39mnames)\n\u001b[1;32m   <a href='file:///Users/js0403/anaconda3/envs/decode_lab_env/lib/python3.9/site-packages/pandas/core/indexes/base.py?line=7272'>7273</a>\u001b[0m \u001b[39melse\u001b[39;00m:\n\u001b[0;32m-> <a href='file:///Users/js0403/anaconda3/envs/decode_lab_env/lib/python3.9/site-packages/pandas/core/indexes/base.py?line=7273'>7274</a>\u001b[0m     \u001b[39mreturn\u001b[39;00m MultiIndex\u001b[39m.\u001b[39;49mfrom_arrays(sequences, names\u001b[39m=\u001b[39;49mnames)\n",
      "File \u001b[0;32m~/anaconda3/envs/decode_lab_env/lib/python3.9/site-packages/pandas/core/indexes/multi.py:489\u001b[0m, in \u001b[0;36mMultiIndex.from_arrays\u001b[0;34m(cls, arrays, sortorder, names)\u001b[0m\n\u001b[1;32m    <a href='file:///Users/js0403/anaconda3/envs/decode_lab_env/lib/python3.9/site-packages/pandas/core/indexes/multi.py?line=485'>486</a>\u001b[0m     \u001b[39mif\u001b[39;00m \u001b[39mlen\u001b[39m(arrays[i]) \u001b[39m!=\u001b[39m \u001b[39mlen\u001b[39m(arrays[i \u001b[39m-\u001b[39m \u001b[39m1\u001b[39m]):\n\u001b[1;32m    <a href='file:///Users/js0403/anaconda3/envs/decode_lab_env/lib/python3.9/site-packages/pandas/core/indexes/multi.py?line=486'>487</a>\u001b[0m         \u001b[39mraise\u001b[39;00m \u001b[39mValueError\u001b[39;00m(\u001b[39m\"\u001b[39m\u001b[39mall arrays must be same length\u001b[39m\u001b[39m\"\u001b[39m)\n\u001b[0;32m--> <a href='file:///Users/js0403/anaconda3/envs/decode_lab_env/lib/python3.9/site-packages/pandas/core/indexes/multi.py?line=488'>489</a>\u001b[0m codes, levels \u001b[39m=\u001b[39m factorize_from_iterables(arrays)\n\u001b[1;32m    <a href='file:///Users/js0403/anaconda3/envs/decode_lab_env/lib/python3.9/site-packages/pandas/core/indexes/multi.py?line=489'>490</a>\u001b[0m \u001b[39mif\u001b[39;00m names \u001b[39mis\u001b[39;00m lib\u001b[39m.\u001b[39mno_default:\n\u001b[1;32m    <a href='file:///Users/js0403/anaconda3/envs/decode_lab_env/lib/python3.9/site-packages/pandas/core/indexes/multi.py?line=490'>491</a>\u001b[0m     names \u001b[39m=\u001b[39m [\u001b[39mgetattr\u001b[39m(arr, \u001b[39m\"\u001b[39m\u001b[39mname\u001b[39m\u001b[39m\"\u001b[39m, \u001b[39mNone\u001b[39;00m) \u001b[39mfor\u001b[39;00m arr \u001b[39min\u001b[39;00m arrays]\n",
      "File \u001b[0;32m~/anaconda3/envs/decode_lab_env/lib/python3.9/site-packages/pandas/core/arrays/categorical.py:3007\u001b[0m, in \u001b[0;36mfactorize_from_iterables\u001b[0;34m(iterables)\u001b[0m\n\u001b[1;32m   <a href='file:///Users/js0403/anaconda3/envs/decode_lab_env/lib/python3.9/site-packages/pandas/core/arrays/categorical.py?line=3002'>3003</a>\u001b[0m \u001b[39mif\u001b[39;00m \u001b[39mlen\u001b[39m(iterables) \u001b[39m==\u001b[39m \u001b[39m0\u001b[39m:\n\u001b[1;32m   <a href='file:///Users/js0403/anaconda3/envs/decode_lab_env/lib/python3.9/site-packages/pandas/core/arrays/categorical.py?line=3003'>3004</a>\u001b[0m     \u001b[39m# For consistency, it should return two empty lists.\u001b[39;00m\n\u001b[1;32m   <a href='file:///Users/js0403/anaconda3/envs/decode_lab_env/lib/python3.9/site-packages/pandas/core/arrays/categorical.py?line=3004'>3005</a>\u001b[0m     \u001b[39mreturn\u001b[39;00m [], []\n\u001b[0;32m-> <a href='file:///Users/js0403/anaconda3/envs/decode_lab_env/lib/python3.9/site-packages/pandas/core/arrays/categorical.py?line=3006'>3007</a>\u001b[0m codes, categories \u001b[39m=\u001b[39m \u001b[39mzip\u001b[39;49m(\u001b[39m*\u001b[39;49m(factorize_from_iterable(it) \u001b[39mfor\u001b[39;49;00m it \u001b[39min\u001b[39;49;00m iterables))\n\u001b[1;32m   <a href='file:///Users/js0403/anaconda3/envs/decode_lab_env/lib/python3.9/site-packages/pandas/core/arrays/categorical.py?line=3007'>3008</a>\u001b[0m \u001b[39mreturn\u001b[39;00m \u001b[39mlist\u001b[39m(codes), \u001b[39mlist\u001b[39m(categories)\n",
      "File \u001b[0;32m~/anaconda3/envs/decode_lab_env/lib/python3.9/site-packages/pandas/core/arrays/categorical.py:3007\u001b[0m, in \u001b[0;36m<genexpr>\u001b[0;34m(.0)\u001b[0m\n\u001b[1;32m   <a href='file:///Users/js0403/anaconda3/envs/decode_lab_env/lib/python3.9/site-packages/pandas/core/arrays/categorical.py?line=3002'>3003</a>\u001b[0m \u001b[39mif\u001b[39;00m \u001b[39mlen\u001b[39m(iterables) \u001b[39m==\u001b[39m \u001b[39m0\u001b[39m:\n\u001b[1;32m   <a href='file:///Users/js0403/anaconda3/envs/decode_lab_env/lib/python3.9/site-packages/pandas/core/arrays/categorical.py?line=3003'>3004</a>\u001b[0m     \u001b[39m# For consistency, it should return two empty lists.\u001b[39;00m\n\u001b[1;32m   <a href='file:///Users/js0403/anaconda3/envs/decode_lab_env/lib/python3.9/site-packages/pandas/core/arrays/categorical.py?line=3004'>3005</a>\u001b[0m     \u001b[39mreturn\u001b[39;00m [], []\n\u001b[0;32m-> <a href='file:///Users/js0403/anaconda3/envs/decode_lab_env/lib/python3.9/site-packages/pandas/core/arrays/categorical.py?line=3006'>3007</a>\u001b[0m codes, categories \u001b[39m=\u001b[39m \u001b[39mzip\u001b[39m(\u001b[39m*\u001b[39m(factorize_from_iterable(it) \u001b[39mfor\u001b[39;00m it \u001b[39min\u001b[39;00m iterables))\n\u001b[1;32m   <a href='file:///Users/js0403/anaconda3/envs/decode_lab_env/lib/python3.9/site-packages/pandas/core/arrays/categorical.py?line=3007'>3008</a>\u001b[0m \u001b[39mreturn\u001b[39;00m \u001b[39mlist\u001b[39m(codes), \u001b[39mlist\u001b[39m(categories)\n",
      "File \u001b[0;32m~/anaconda3/envs/decode_lab_env/lib/python3.9/site-packages/pandas/core/arrays/categorical.py:2980\u001b[0m, in \u001b[0;36mfactorize_from_iterable\u001b[0;34m(values)\u001b[0m\n\u001b[1;32m   <a href='file:///Users/js0403/anaconda3/envs/decode_lab_env/lib/python3.9/site-packages/pandas/core/arrays/categorical.py?line=2974'>2975</a>\u001b[0m     codes \u001b[39m=\u001b[39m values\u001b[39m.\u001b[39mcodes\n\u001b[1;32m   <a href='file:///Users/js0403/anaconda3/envs/decode_lab_env/lib/python3.9/site-packages/pandas/core/arrays/categorical.py?line=2975'>2976</a>\u001b[0m \u001b[39melse\u001b[39;00m:\n\u001b[1;32m   <a href='file:///Users/js0403/anaconda3/envs/decode_lab_env/lib/python3.9/site-packages/pandas/core/arrays/categorical.py?line=2976'>2977</a>\u001b[0m     \u001b[39m# The value of ordered is irrelevant since we don't use cat as such,\u001b[39;00m\n\u001b[1;32m   <a href='file:///Users/js0403/anaconda3/envs/decode_lab_env/lib/python3.9/site-packages/pandas/core/arrays/categorical.py?line=2977'>2978</a>\u001b[0m     \u001b[39m# but only the resulting categories, the order of which is independent\u001b[39;00m\n\u001b[1;32m   <a href='file:///Users/js0403/anaconda3/envs/decode_lab_env/lib/python3.9/site-packages/pandas/core/arrays/categorical.py?line=2978'>2979</a>\u001b[0m     \u001b[39m# from ordered. Set ordered to False as default. See GH #15457\u001b[39;00m\n\u001b[0;32m-> <a href='file:///Users/js0403/anaconda3/envs/decode_lab_env/lib/python3.9/site-packages/pandas/core/arrays/categorical.py?line=2979'>2980</a>\u001b[0m     cat \u001b[39m=\u001b[39m Categorical(values, ordered\u001b[39m=\u001b[39;49m\u001b[39mFalse\u001b[39;49;00m)\n\u001b[1;32m   <a href='file:///Users/js0403/anaconda3/envs/decode_lab_env/lib/python3.9/site-packages/pandas/core/arrays/categorical.py?line=2980'>2981</a>\u001b[0m     categories \u001b[39m=\u001b[39m cat\u001b[39m.\u001b[39mcategories\n\u001b[1;32m   <a href='file:///Users/js0403/anaconda3/envs/decode_lab_env/lib/python3.9/site-packages/pandas/core/arrays/categorical.py?line=2981'>2982</a>\u001b[0m     codes \u001b[39m=\u001b[39m cat\u001b[39m.\u001b[39mcodes\n",
      "File \u001b[0;32m~/anaconda3/envs/decode_lab_env/lib/python3.9/site-packages/pandas/core/arrays/categorical.py:454\u001b[0m, in \u001b[0;36mCategorical.__init__\u001b[0;34m(self, values, categories, ordered, dtype, fastpath, copy)\u001b[0m\n\u001b[1;32m    <a href='file:///Users/js0403/anaconda3/envs/decode_lab_env/lib/python3.9/site-packages/pandas/core/arrays/categorical.py?line=446'>447</a>\u001b[0m             \u001b[39mraise\u001b[39;00m \u001b[39mTypeError\u001b[39;00m(\n\u001b[1;32m    <a href='file:///Users/js0403/anaconda3/envs/decode_lab_env/lib/python3.9/site-packages/pandas/core/arrays/categorical.py?line=447'>448</a>\u001b[0m                 \u001b[39m\"\u001b[39m\u001b[39m'\u001b[39m\u001b[39mvalues\u001b[39m\u001b[39m'\u001b[39m\u001b[39m is not ordered, please \u001b[39m\u001b[39m\"\u001b[39m\n\u001b[1;32m    <a href='file:///Users/js0403/anaconda3/envs/decode_lab_env/lib/python3.9/site-packages/pandas/core/arrays/categorical.py?line=448'>449</a>\u001b[0m                 \u001b[39m\"\u001b[39m\u001b[39mexplicitly specify the categories order \u001b[39m\u001b[39m\"\u001b[39m\n\u001b[1;32m    <a href='file:///Users/js0403/anaconda3/envs/decode_lab_env/lib/python3.9/site-packages/pandas/core/arrays/categorical.py?line=449'>450</a>\u001b[0m                 \u001b[39m\"\u001b[39m\u001b[39mby passing in a categories argument.\u001b[39m\u001b[39m\"\u001b[39m\n\u001b[1;32m    <a href='file:///Users/js0403/anaconda3/envs/decode_lab_env/lib/python3.9/site-packages/pandas/core/arrays/categorical.py?line=450'>451</a>\u001b[0m             ) \u001b[39mfrom\u001b[39;00m \u001b[39merr\u001b[39;00m\n\u001b[1;32m    <a href='file:///Users/js0403/anaconda3/envs/decode_lab_env/lib/python3.9/site-packages/pandas/core/arrays/categorical.py?line=452'>453</a>\u001b[0m     \u001b[39m# we're inferring from values\u001b[39;00m\n\u001b[0;32m--> <a href='file:///Users/js0403/anaconda3/envs/decode_lab_env/lib/python3.9/site-packages/pandas/core/arrays/categorical.py?line=453'>454</a>\u001b[0m     dtype \u001b[39m=\u001b[39m CategoricalDtype(categories, dtype\u001b[39m.\u001b[39;49mordered)\n\u001b[1;32m    <a href='file:///Users/js0403/anaconda3/envs/decode_lab_env/lib/python3.9/site-packages/pandas/core/arrays/categorical.py?line=455'>456</a>\u001b[0m \u001b[39melif\u001b[39;00m is_categorical_dtype(values\u001b[39m.\u001b[39mdtype):\n\u001b[1;32m    <a href='file:///Users/js0403/anaconda3/envs/decode_lab_env/lib/python3.9/site-packages/pandas/core/arrays/categorical.py?line=456'>457</a>\u001b[0m     old_codes \u001b[39m=\u001b[39m extract_array(values)\u001b[39m.\u001b[39m_codes\n",
      "File \u001b[0;32m~/anaconda3/envs/decode_lab_env/lib/python3.9/site-packages/pandas/core/dtypes/dtypes.py:186\u001b[0m, in \u001b[0;36mCategoricalDtype.__init__\u001b[0;34m(self, categories, ordered)\u001b[0m\n\u001b[1;32m    <a href='file:///Users/js0403/anaconda3/envs/decode_lab_env/lib/python3.9/site-packages/pandas/core/dtypes/dtypes.py?line=184'>185</a>\u001b[0m \u001b[39mdef\u001b[39;00m \u001b[39m__init__\u001b[39m(\u001b[39mself\u001b[39m, categories\u001b[39m=\u001b[39m\u001b[39mNone\u001b[39;00m, ordered: Ordered \u001b[39m=\u001b[39m \u001b[39mFalse\u001b[39;00m) \u001b[39m-\u001b[39m\u001b[39m>\u001b[39m \u001b[39mNone\u001b[39;00m:\n\u001b[0;32m--> <a href='file:///Users/js0403/anaconda3/envs/decode_lab_env/lib/python3.9/site-packages/pandas/core/dtypes/dtypes.py?line=185'>186</a>\u001b[0m     \u001b[39mself\u001b[39;49m\u001b[39m.\u001b[39;49m_finalize(categories, ordered, fastpath\u001b[39m=\u001b[39;49m\u001b[39mFalse\u001b[39;49;00m)\n",
      "File \u001b[0;32m~/anaconda3/envs/decode_lab_env/lib/python3.9/site-packages/pandas/core/dtypes/dtypes.py:340\u001b[0m, in \u001b[0;36mCategoricalDtype._finalize\u001b[0;34m(self, categories, ordered, fastpath)\u001b[0m\n\u001b[1;32m    <a href='file:///Users/js0403/anaconda3/envs/decode_lab_env/lib/python3.9/site-packages/pandas/core/dtypes/dtypes.py?line=336'>337</a>\u001b[0m     \u001b[39mself\u001b[39m\u001b[39m.\u001b[39mvalidate_ordered(ordered)\n\u001b[1;32m    <a href='file:///Users/js0403/anaconda3/envs/decode_lab_env/lib/python3.9/site-packages/pandas/core/dtypes/dtypes.py?line=338'>339</a>\u001b[0m \u001b[39mif\u001b[39;00m categories \u001b[39mis\u001b[39;00m \u001b[39mnot\u001b[39;00m \u001b[39mNone\u001b[39;00m:\n\u001b[0;32m--> <a href='file:///Users/js0403/anaconda3/envs/decode_lab_env/lib/python3.9/site-packages/pandas/core/dtypes/dtypes.py?line=339'>340</a>\u001b[0m     categories \u001b[39m=\u001b[39m \u001b[39mself\u001b[39;49m\u001b[39m.\u001b[39;49mvalidate_categories(categories, fastpath\u001b[39m=\u001b[39;49mfastpath)\n\u001b[1;32m    <a href='file:///Users/js0403/anaconda3/envs/decode_lab_env/lib/python3.9/site-packages/pandas/core/dtypes/dtypes.py?line=341'>342</a>\u001b[0m \u001b[39mself\u001b[39m\u001b[39m.\u001b[39m_categories \u001b[39m=\u001b[39m categories\n\u001b[1;32m    <a href='file:///Users/js0403/anaconda3/envs/decode_lab_env/lib/python3.9/site-packages/pandas/core/dtypes/dtypes.py?line=342'>343</a>\u001b[0m \u001b[39mself\u001b[39m\u001b[39m.\u001b[39m_ordered \u001b[39m=\u001b[39m ordered\n",
      "File \u001b[0;32m~/anaconda3/envs/decode_lab_env/lib/python3.9/site-packages/pandas/core/dtypes/dtypes.py:536\u001b[0m, in \u001b[0;36mCategoricalDtype.validate_categories\u001b[0;34m(categories, fastpath)\u001b[0m\n\u001b[1;32m    <a href='file:///Users/js0403/anaconda3/envs/decode_lab_env/lib/python3.9/site-packages/pandas/core/dtypes/dtypes.py?line=532'>533</a>\u001b[0m     \u001b[39mif\u001b[39;00m categories\u001b[39m.\u001b[39mhasnans:\n\u001b[1;32m    <a href='file:///Users/js0403/anaconda3/envs/decode_lab_env/lib/python3.9/site-packages/pandas/core/dtypes/dtypes.py?line=533'>534</a>\u001b[0m         \u001b[39mraise\u001b[39;00m \u001b[39mValueError\u001b[39;00m(\u001b[39m\"\u001b[39m\u001b[39mCategorical categories cannot be null\u001b[39m\u001b[39m\"\u001b[39m)\n\u001b[0;32m--> <a href='file:///Users/js0403/anaconda3/envs/decode_lab_env/lib/python3.9/site-packages/pandas/core/dtypes/dtypes.py?line=535'>536</a>\u001b[0m     \u001b[39mif\u001b[39;00m \u001b[39mnot\u001b[39;00m categories\u001b[39m.\u001b[39;49mis_unique:\n\u001b[1;32m    <a href='file:///Users/js0403/anaconda3/envs/decode_lab_env/lib/python3.9/site-packages/pandas/core/dtypes/dtypes.py?line=536'>537</a>\u001b[0m         \u001b[39mraise\u001b[39;00m \u001b[39mValueError\u001b[39;00m(\u001b[39m\"\u001b[39m\u001b[39mCategorical categories must be unique\u001b[39m\u001b[39m\"\u001b[39m)\n\u001b[1;32m    <a href='file:///Users/js0403/anaconda3/envs/decode_lab_env/lib/python3.9/site-packages/pandas/core/dtypes/dtypes.py?line=538'>539</a>\u001b[0m \u001b[39mif\u001b[39;00m \u001b[39misinstance\u001b[39m(categories, ABCCategoricalIndex):\n",
      "File \u001b[0;32m~/anaconda3/envs/decode_lab_env/lib/python3.9/site-packages/pandas/_libs/properties.pyx:36\u001b[0m, in \u001b[0;36mpandas._libs.properties.CachedProperty.__get__\u001b[0;34m()\u001b[0m\n",
      "File \u001b[0;32m~/anaconda3/envs/decode_lab_env/lib/python3.9/site-packages/pandas/core/indexes/base.py:2386\u001b[0m, in \u001b[0;36mIndex.is_unique\u001b[0;34m(self)\u001b[0m\n\u001b[1;32m   <a href='file:///Users/js0403/anaconda3/envs/decode_lab_env/lib/python3.9/site-packages/pandas/core/indexes/base.py?line=2380'>2381</a>\u001b[0m \u001b[39m@cache_readonly\u001b[39m\n\u001b[1;32m   <a href='file:///Users/js0403/anaconda3/envs/decode_lab_env/lib/python3.9/site-packages/pandas/core/indexes/base.py?line=2381'>2382</a>\u001b[0m \u001b[39mdef\u001b[39;00m \u001b[39mis_unique\u001b[39m(\u001b[39mself\u001b[39m) \u001b[39m-\u001b[39m\u001b[39m>\u001b[39m \u001b[39mbool\u001b[39m:\n\u001b[1;32m   <a href='file:///Users/js0403/anaconda3/envs/decode_lab_env/lib/python3.9/site-packages/pandas/core/indexes/base.py?line=2382'>2383</a>\u001b[0m \u001b[39m    \u001b[39m\u001b[39m\"\"\"\u001b[39;00m\n\u001b[1;32m   <a href='file:///Users/js0403/anaconda3/envs/decode_lab_env/lib/python3.9/site-packages/pandas/core/indexes/base.py?line=2383'>2384</a>\u001b[0m \u001b[39m    Return if the index has unique values.\u001b[39;00m\n\u001b[1;32m   <a href='file:///Users/js0403/anaconda3/envs/decode_lab_env/lib/python3.9/site-packages/pandas/core/indexes/base.py?line=2384'>2385</a>\u001b[0m \u001b[39m    \"\"\"\u001b[39;00m\n\u001b[0;32m-> <a href='file:///Users/js0403/anaconda3/envs/decode_lab_env/lib/python3.9/site-packages/pandas/core/indexes/base.py?line=2385'>2386</a>\u001b[0m     \u001b[39mreturn\u001b[39;00m \u001b[39mself\u001b[39;49m\u001b[39m.\u001b[39;49m_engine\u001b[39m.\u001b[39;49mis_unique\n",
      "\u001b[0;31mKeyboardInterrupt\u001b[0m: "
     ]
    }
   ],
   "source": [
    "self = spectral(nwbpath)"
   ]
  },
  {
   "cell_type": "markdown",
   "metadata": {
    "isInteractiveWindowMessageCell": true
   },
   "source": [
    "Restarted decode_lab_env (Python 3.9.18)"
   ]
  },
  {
   "cell_type": "code",
   "execution_count": 1,
   "metadata": {},
   "outputs": [
    {
     "name": "stdout",
     "output_type": "stream",
     "text": [
      "Cite pynwb, neo, and CatalystNeuro team\n",
      "Please note, if there are multiple start/stops, more data is collected after a stopping recording. You must trim the CSC.\n",
      "TODO: MUST CHECK ALL SLICING FOR [a:b], MUST BE [a::b]\n"
     ]
    }
   ],
   "source": [
    "from scipy.signal import welch\n",
    "from decode_lab_code.readers.ioreaders import load_nwb\n",
    "import matplotlib.pyplot as plt\n",
    "import numpy as np\n",
    "import pynapple as nap\n",
    "from decode_lab_code.core.base import base\n",
    "from decode_lab_code.readers.ioreaders import read_nlx\n",
    "import pandas as pd"
   ]
  },
  {
   "cell_type": "code",
   "execution_count": 2,
   "metadata": {},
   "outputs": [
    {
     "name": "stdout",
     "output_type": "stream",
     "text": [
      "Cite Pynapple and PYNWB\n"
     ]
    }
   ],
   "source": [
    "from decode_lab_code.analyze.spectral import spectral"
   ]
  },
  {
   "cell_type": "code",
   "execution_count": 3,
   "metadata": {},
   "outputs": [],
   "source": [
    "nwbpath = '/Users/js0403/local data/2020-06-26_16-56-10 9&10eb male ACTH ELS/nwbfile.nwb'"
   ]
  },
  {
   "cell_type": "code",
   "execution_count": 4,
   "metadata": {},
   "outputs": [
    {
     "name": "stdout",
     "output_type": "stream",
     "text": [
      "     start_time    stop_time    tags\n",
      "id                                  \n",
      "0   8145.353771  8446.868771  [rec0]\n",
      "1   8491.112771  9466.121771  [rec1]\n"
     ]
    }
   ],
   "source": [
    "self = spectral(nwbpath)"
   ]
  },
  {
   "cell_type": "code",
   "execution_count": 5,
   "metadata": {},
   "outputs": [
    {
     "name": "stdout",
     "output_type": "stream",
     "text": [
      "     start_time    stop_time    tags\n",
      "id                                  \n",
      "0   8145.353771  8446.868771  [rec0]\n",
      "1   8491.112771  9466.121771  [rec1]\n"
     ]
    }
   ],
   "source": [
    "self.nwbfile = load_nwb(nwbpath=nwbpath)\n",
    "self.events = self.nwbfile.epochs.to_dataframe()\n",
    "self.csc_data_names = self.nwbfile.electrodes.to_dataframe()['label']\n",
    "#self.rec_times = self.csc_data[0].time_support        \n",
    "\n",
    "print(self.events)\n",
    "# get unit data\n",
    "\n",
    "self.unit_data = nap.load_file(nwbpath)['units']\n",
    "# get csc data\n",
    "\n",
    "csc_data = nap.load_file(nwbpath)['ElectricalSeries']\n",
    "csc_times = self.nwbfile.acquisition['ElectricalSeries'].timestamps[:]"
   ]
  },
  {
   "cell_type": "code",
   "execution_count": 6,
   "metadata": {},
   "outputs": [],
   "source": [
    "csc_data = nap.load_file(nwbpath)['ElectricalSeries']\n",
    "csc_times = self.nwbfile.acquisition['ElectricalSeries'].timestamps[:]"
   ]
  },
  {
   "cell_type": "code",
   "execution_count": 7,
   "metadata": {},
   "outputs": [
    {
     "data": {
      "text/html": [
       "<div>\n",
       "<style scoped>\n",
       "    .dataframe tbody tr th:only-of-type {\n",
       "        vertical-align: middle;\n",
       "    }\n",
       "\n",
       "    .dataframe tbody tr th {\n",
       "        vertical-align: top;\n",
       "    }\n",
       "\n",
       "    .dataframe thead th {\n",
       "        text-align: right;\n",
       "    }\n",
       "</style>\n",
       "<table border=\"1\" class=\"dataframe\">\n",
       "  <thead>\n",
       "    <tr style=\"text-align: right;\">\n",
       "      <th></th>\n",
       "      <th>0</th>\n",
       "      <th>1</th>\n",
       "      <th>2</th>\n",
       "      <th>3</th>\n",
       "      <th>4</th>\n",
       "      <th>5</th>\n",
       "      <th>6</th>\n",
       "      <th>7</th>\n",
       "      <th>8</th>\n",
       "      <th>9</th>\n",
       "      <th>10</th>\n",
       "      <th>11</th>\n",
       "      <th>12</th>\n",
       "      <th>13</th>\n",
       "      <th>14</th>\n",
       "      <th>15</th>\n",
       "    </tr>\n",
       "    <tr>\n",
       "      <th>Time (s)</th>\n",
       "      <th></th>\n",
       "      <th></th>\n",
       "      <th></th>\n",
       "      <th></th>\n",
       "      <th></th>\n",
       "      <th></th>\n",
       "      <th></th>\n",
       "      <th></th>\n",
       "      <th></th>\n",
       "      <th></th>\n",
       "      <th></th>\n",
       "      <th></th>\n",
       "      <th></th>\n",
       "      <th></th>\n",
       "      <th></th>\n",
       "      <th></th>\n",
       "    </tr>\n",
       "  </thead>\n",
       "  <tbody>\n",
       "    <tr>\n",
       "      <th>8145.353771</th>\n",
       "      <td>-22.797327</td>\n",
       "      <td>-26.459549</td>\n",
       "      <td>-18.524736</td>\n",
       "      <td>-25.849178</td>\n",
       "      <td>8.728294</td>\n",
       "      <td>-80.355240</td>\n",
       "      <td>28.595844</td>\n",
       "      <td>-35.370953</td>\n",
       "      <td>-29.236732</td>\n",
       "      <td>-78.859833</td>\n",
       "      <td>-97.323532</td>\n",
       "      <td>-69.429611</td>\n",
       "      <td>-2.990814</td>\n",
       "      <td>1.159703</td>\n",
       "      <td>-2.044740</td>\n",
       "      <td>39.826656</td>\n",
       "    </tr>\n",
       "    <tr>\n",
       "      <th>8145.353802</th>\n",
       "      <td>-25.513475</td>\n",
       "      <td>-28.229622</td>\n",
       "      <td>-16.113773</td>\n",
       "      <td>-26.276438</td>\n",
       "      <td>24.201180</td>\n",
       "      <td>-80.843536</td>\n",
       "      <td>27.802362</td>\n",
       "      <td>-33.173622</td>\n",
       "      <td>-31.678213</td>\n",
       "      <td>-68.758202</td>\n",
       "      <td>-85.024567</td>\n",
       "      <td>-58.534504</td>\n",
       "      <td>3.967406</td>\n",
       "      <td>5.706962</td>\n",
       "      <td>-4.425184</td>\n",
       "      <td>35.981323</td>\n",
       "    </tr>\n",
       "    <tr>\n",
       "      <th>8145.353834</th>\n",
       "      <td>-17.334515</td>\n",
       "      <td>-29.419844</td>\n",
       "      <td>-17.700735</td>\n",
       "      <td>-27.100437</td>\n",
       "      <td>20.111698</td>\n",
       "      <td>-92.257454</td>\n",
       "      <td>28.565325</td>\n",
       "      <td>-35.340435</td>\n",
       "      <td>-34.424881</td>\n",
       "      <td>-59.633171</td>\n",
       "      <td>-78.981903</td>\n",
       "      <td>-56.855984</td>\n",
       "      <td>-1.190222</td>\n",
       "      <td>6.347850</td>\n",
       "      <td>-8.606220</td>\n",
       "      <td>25.513475</td>\n",
       "    </tr>\n",
       "    <tr>\n",
       "      <th>8145.353865</th>\n",
       "      <td>-6.897183</td>\n",
       "      <td>-29.236732</td>\n",
       "      <td>-20.355846</td>\n",
       "      <td>-27.771845</td>\n",
       "      <td>1.678518</td>\n",
       "      <td>-103.274643</td>\n",
       "      <td>28.015993</td>\n",
       "      <td>-41.993469</td>\n",
       "      <td>-33.906067</td>\n",
       "      <td>-54.078800</td>\n",
       "      <td>-85.970642</td>\n",
       "      <td>-65.065468</td>\n",
       "      <td>-13.092441</td>\n",
       "      <td>1.861629</td>\n",
       "      <td>-10.528886</td>\n",
       "      <td>21.362957</td>\n",
       "    </tr>\n",
       "    <tr>\n",
       "      <th>8145.353896</th>\n",
       "      <td>-9.491257</td>\n",
       "      <td>-29.786066</td>\n",
       "      <td>-23.895994</td>\n",
       "      <td>-27.893919</td>\n",
       "      <td>-12.390515</td>\n",
       "      <td>-108.432266</td>\n",
       "      <td>25.696587</td>\n",
       "      <td>-46.357616</td>\n",
       "      <td>-31.586658</td>\n",
       "      <td>-51.576283</td>\n",
       "      <td>-96.346939</td>\n",
       "      <td>-81.850647</td>\n",
       "      <td>-21.820734</td>\n",
       "      <td>-3.082370</td>\n",
       "      <td>-8.270516</td>\n",
       "      <td>23.651846</td>\n",
       "    </tr>\n",
       "    <tr>\n",
       "      <th>...</th>\n",
       "      <td>...</td>\n",
       "      <td>...</td>\n",
       "      <td>...</td>\n",
       "      <td>...</td>\n",
       "      <td>...</td>\n",
       "      <td>...</td>\n",
       "      <td>...</td>\n",
       "      <td>...</td>\n",
       "      <td>...</td>\n",
       "      <td>...</td>\n",
       "      <td>...</td>\n",
       "      <td>...</td>\n",
       "      <td>...</td>\n",
       "      <td>...</td>\n",
       "      <td>...</td>\n",
       "      <td>...</td>\n",
       "    </tr>\n",
       "    <tr>\n",
       "      <th>9466.121646</th>\n",
       "      <td>-2.075259</td>\n",
       "      <td>-0.854518</td>\n",
       "      <td>-25.727104</td>\n",
       "      <td>8.392591</td>\n",
       "      <td>-2.655110</td>\n",
       "      <td>42.634357</td>\n",
       "      <td>-28.443253</td>\n",
       "      <td>20.447401</td>\n",
       "      <td>33.234657</td>\n",
       "      <td>11.139256</td>\n",
       "      <td>26.490067</td>\n",
       "      <td>3.387555</td>\n",
       "      <td>51.698357</td>\n",
       "      <td>42.695396</td>\n",
       "      <td>18.463699</td>\n",
       "      <td>34.516434</td>\n",
       "    </tr>\n",
       "    <tr>\n",
       "      <th>9466.121677</th>\n",
       "      <td>-1.068148</td>\n",
       "      <td>-5.340739</td>\n",
       "      <td>-26.123844</td>\n",
       "      <td>7.324442</td>\n",
       "      <td>-3.418073</td>\n",
       "      <td>37.842953</td>\n",
       "      <td>-31.037325</td>\n",
       "      <td>20.203255</td>\n",
       "      <td>32.959991</td>\n",
       "      <td>17.761772</td>\n",
       "      <td>19.409773</td>\n",
       "      <td>12.085330</td>\n",
       "      <td>37.720879</td>\n",
       "      <td>34.577473</td>\n",
       "      <td>9.338664</td>\n",
       "      <td>32.685326</td>\n",
       "    </tr>\n",
       "    <tr>\n",
       "      <th>9466.121709</th>\n",
       "      <td>1.037629</td>\n",
       "      <td>-9.613331</td>\n",
       "      <td>-22.370068</td>\n",
       "      <td>6.958220</td>\n",
       "      <td>-3.173925</td>\n",
       "      <td>38.087101</td>\n",
       "      <td>-26.245918</td>\n",
       "      <td>25.666067</td>\n",
       "      <td>38.178658</td>\n",
       "      <td>28.656881</td>\n",
       "      <td>22.064882</td>\n",
       "      <td>26.093327</td>\n",
       "      <td>37.171547</td>\n",
       "      <td>24.292734</td>\n",
       "      <td>6.317332</td>\n",
       "      <td>32.135990</td>\n",
       "    </tr>\n",
       "    <tr>\n",
       "      <th>9466.121740</th>\n",
       "      <td>2.288888</td>\n",
       "      <td>-15.869625</td>\n",
       "      <td>-15.503404</td>\n",
       "      <td>9.369183</td>\n",
       "      <td>-0.824000</td>\n",
       "      <td>47.029026</td>\n",
       "      <td>-16.907255</td>\n",
       "      <td>34.699547</td>\n",
       "      <td>47.578358</td>\n",
       "      <td>34.791103</td>\n",
       "      <td>29.145178</td>\n",
       "      <td>34.302807</td>\n",
       "      <td>43.427841</td>\n",
       "      <td>21.027254</td>\n",
       "      <td>14.374218</td>\n",
       "      <td>26.642660</td>\n",
       "    </tr>\n",
       "    <tr>\n",
       "      <th>9466.121771</th>\n",
       "      <td>-6.134221</td>\n",
       "      <td>-32.013916</td>\n",
       "      <td>-20.752586</td>\n",
       "      <td>6.042665</td>\n",
       "      <td>0.701926</td>\n",
       "      <td>50.935394</td>\n",
       "      <td>-20.142218</td>\n",
       "      <td>31.311991</td>\n",
       "      <td>46.998505</td>\n",
       "      <td>26.581623</td>\n",
       "      <td>24.048586</td>\n",
       "      <td>25.879696</td>\n",
       "      <td>34.943695</td>\n",
       "      <td>15.350811</td>\n",
       "      <td>16.632587</td>\n",
       "      <td>7.965331</td>\n",
       "    </tr>\n",
       "  </tbody>\n",
       "</table>\n",
       "<p>40848770 rows × 16 columns</p>\n",
       "</div>"
      ],
      "text/plain": [
       "                    0          1          2          3          4   \\\n",
       "Time (s)                                                             \n",
       "8145.353771 -22.797327 -26.459549 -18.524736 -25.849178   8.728294   \n",
       "8145.353802 -25.513475 -28.229622 -16.113773 -26.276438  24.201180   \n",
       "8145.353834 -17.334515 -29.419844 -17.700735 -27.100437  20.111698   \n",
       "8145.353865  -6.897183 -29.236732 -20.355846 -27.771845   1.678518   \n",
       "8145.353896  -9.491257 -29.786066 -23.895994 -27.893919 -12.390515   \n",
       "...                ...        ...        ...        ...        ...   \n",
       "9466.121646  -2.075259  -0.854518 -25.727104   8.392591  -2.655110   \n",
       "9466.121677  -1.068148  -5.340739 -26.123844   7.324442  -3.418073   \n",
       "9466.121709   1.037629  -9.613331 -22.370068   6.958220  -3.173925   \n",
       "9466.121740   2.288888 -15.869625 -15.503404   9.369183  -0.824000   \n",
       "9466.121771  -6.134221 -32.013916 -20.752586   6.042665   0.701926   \n",
       "\n",
       "                     5          6          7          8          9   \\\n",
       "Time (s)                                                              \n",
       "8145.353771  -80.355240  28.595844 -35.370953 -29.236732 -78.859833   \n",
       "8145.353802  -80.843536  27.802362 -33.173622 -31.678213 -68.758202   \n",
       "8145.353834  -92.257454  28.565325 -35.340435 -34.424881 -59.633171   \n",
       "8145.353865 -103.274643  28.015993 -41.993469 -33.906067 -54.078800   \n",
       "8145.353896 -108.432266  25.696587 -46.357616 -31.586658 -51.576283   \n",
       "...                 ...        ...        ...        ...        ...   \n",
       "9466.121646   42.634357 -28.443253  20.447401  33.234657  11.139256   \n",
       "9466.121677   37.842953 -31.037325  20.203255  32.959991  17.761772   \n",
       "9466.121709   38.087101 -26.245918  25.666067  38.178658  28.656881   \n",
       "9466.121740   47.029026 -16.907255  34.699547  47.578358  34.791103   \n",
       "9466.121771   50.935394 -20.142218  31.311991  46.998505  26.581623   \n",
       "\n",
       "                    10         11         12         13         14         15  \n",
       "Time (s)                                                                       \n",
       "8145.353771 -97.323532 -69.429611  -2.990814   1.159703  -2.044740  39.826656  \n",
       "8145.353802 -85.024567 -58.534504   3.967406   5.706962  -4.425184  35.981323  \n",
       "8145.353834 -78.981903 -56.855984  -1.190222   6.347850  -8.606220  25.513475  \n",
       "8145.353865 -85.970642 -65.065468 -13.092441   1.861629 -10.528886  21.362957  \n",
       "8145.353896 -96.346939 -81.850647 -21.820734  -3.082370  -8.270516  23.651846  \n",
       "...                ...        ...        ...        ...        ...        ...  \n",
       "9466.121646  26.490067   3.387555  51.698357  42.695396  18.463699  34.516434  \n",
       "9466.121677  19.409773  12.085330  37.720879  34.577473   9.338664  32.685326  \n",
       "9466.121709  22.064882  26.093327  37.171547  24.292734   6.317332  32.135990  \n",
       "9466.121740  29.145178  34.302807  43.427841  21.027254  14.374218  26.642660  \n",
       "9466.121771  24.048586  25.879696  34.943695  15.350811  16.632587   7.965331  \n",
       "\n",
       "[40848770 rows x 16 columns]"
      ]
     },
     "execution_count": 7,
     "metadata": {},
     "output_type": "execute_result"
    }
   ],
   "source": [
    "csc_data"
   ]
  },
  {
   "cell_type": "code",
   "execution_count": 8,
   "metadata": {},
   "outputs": [],
   "source": [
    "start_time = self.nwbfile.epochs.to_dataframe()['start_time'][0]\n",
    "end_time = self.nwbfile.epochs.to_dataframe()['stop_time'][0]\n",
    "temp_data = csc_data[0].data()\n",
    "numsamples = len(temp_data[np.where(csc_times==start_time)[0][0]:np.where(csc_times==end_time)[0][0]])\n",
    "self.fs = np.round(numsamples/(end_time-start_time)).astype(float)"
   ]
  },
  {
   "cell_type": "code",
   "execution_count": 9,
   "metadata": {},
   "outputs": [
    {
     "data": {
      "text/plain": [
       "32000.0"
      ]
     },
     "execution_count": 9,
     "metadata": {},
     "output_type": "execute_result"
    }
   ],
   "source": [
    "self.fs"
   ]
  },
  {
   "cell_type": "code",
   "execution_count": 10,
   "metadata": {},
   "outputs": [],
   "source": [
    "start_times = [i for i in self.events.start_time] # get times\n",
    "end_times = [i for i in self.events.stop_time] # get times\n",
    "start_idx = []; end_idx = []\n",
    "for i in start_times:\n",
    "    start_idx.append(np.where(csc_times==i))\n",
    "\n",
    "for i in end_times:\n",
    "    end_idx.append(np.where(csc_times==i))\n",
    "# sanity check\n",
    "\n",
    "if len(start_times) != len(end_times):\n",
    "    ValueError(\"start_times do not match end times - something is wrong with the recording or extraction\")\n",
    "# organize data into pandas array (TsdFrame) - organizing features are recording, time(neuralynx), time(sec)\n",
    "# TODO: Include helper functions to include epochs\n",
    "\n",
    "rec_var = np.zeros(csc_data.shape[0])\n",
    "for i in range(len(start_times)):\n",
    "    rec_var[start_idx[i][0][0]:end_idx[i][0][0]+1]=i+1"
   ]
  },
  {
   "cell_type": "code",
   "execution_count": 11,
   "metadata": {},
   "outputs": [],
   "source": [
    "import matplotlib.pyplot as plt"
   ]
  },
  {
   "cell_type": "code",
   "execution_count": 12,
   "metadata": {},
   "outputs": [
    {
     "data": {
      "text/plain": [
       "[<matplotlib.lines.Line2D at 0x2b8f05220>]"
      ]
     },
     "execution_count": 12,
     "metadata": {},
     "output_type": "execute_result"
    },
    {
     "data": {
      "image/png": "[encoded data removed]",
      "text/plain": [
       "<Figure size 640x480 with 1 Axes>"
      ]
     },
     "metadata": {},
     "output_type": "display_data"
    }
   ],
   "source": [
    "plt.plot(rec_var)"
   ]
  },
  {
   "cell_type": "code",
   "execution_count": 13,
   "metadata": {},
   "outputs": [],
   "source": [
    "csc_data.index.name = 'Time (neuralynx)'"
   ]
  },
  {
   "cell_type": "code",
   "execution_count": 14,
   "metadata": {},
   "outputs": [
    {
     "data": {
      "text/html": [
       "<div>\n",
       "<style scoped>\n",
       "    .dataframe tbody tr th:only-of-type {\n",
       "        vertical-align: middle;\n",
       "    }\n",
       "\n",
       "    .dataframe tbody tr th {\n",
       "        vertical-align: top;\n",
       "    }\n",
       "\n",
       "    .dataframe thead th {\n",
       "        text-align: right;\n",
       "    }\n",
       "</style>\n",
       "<table border=\"1\" class=\"dataframe\">\n",
       "  <thead>\n",
       "    <tr style=\"text-align: right;\">\n",
       "      <th></th>\n",
       "      <th>0</th>\n",
       "      <th>1</th>\n",
       "      <th>2</th>\n",
       "      <th>3</th>\n",
       "      <th>4</th>\n",
       "      <th>5</th>\n",
       "      <th>6</th>\n",
       "      <th>7</th>\n",
       "      <th>8</th>\n",
       "      <th>9</th>\n",
       "      <th>10</th>\n",
       "      <th>11</th>\n",
       "      <th>12</th>\n",
       "      <th>13</th>\n",
       "      <th>14</th>\n",
       "      <th>15</th>\n",
       "    </tr>\n",
       "    <tr>\n",
       "      <th>Time (neuralynx)</th>\n",
       "      <th></th>\n",
       "      <th></th>\n",
       "      <th></th>\n",
       "      <th></th>\n",
       "      <th></th>\n",
       "      <th></th>\n",
       "      <th></th>\n",
       "      <th></th>\n",
       "      <th></th>\n",
       "      <th></th>\n",
       "      <th></th>\n",
       "      <th></th>\n",
       "      <th></th>\n",
       "      <th></th>\n",
       "      <th></th>\n",
       "      <th></th>\n",
       "    </tr>\n",
       "  </thead>\n",
       "  <tbody>\n",
       "    <tr>\n",
       "      <th>8145.353771</th>\n",
       "      <td>-22.797327</td>\n",
       "      <td>-26.459549</td>\n",
       "      <td>-18.524736</td>\n",
       "      <td>-25.849178</td>\n",
       "      <td>8.728294</td>\n",
       "      <td>-80.355240</td>\n",
       "      <td>28.595844</td>\n",
       "      <td>-35.370953</td>\n",
       "      <td>-29.236732</td>\n",
       "      <td>-78.859833</td>\n",
       "      <td>-97.323532</td>\n",
       "      <td>-69.429611</td>\n",
       "      <td>-2.990814</td>\n",
       "      <td>1.159703</td>\n",
       "      <td>-2.044740</td>\n",
       "      <td>39.826656</td>\n",
       "    </tr>\n",
       "    <tr>\n",
       "      <th>8145.353802</th>\n",
       "      <td>-25.513475</td>\n",
       "      <td>-28.229622</td>\n",
       "      <td>-16.113773</td>\n",
       "      <td>-26.276438</td>\n",
       "      <td>24.201180</td>\n",
       "      <td>-80.843536</td>\n",
       "      <td>27.802362</td>\n",
       "      <td>-33.173622</td>\n",
       "      <td>-31.678213</td>\n",
       "      <td>-68.758202</td>\n",
       "      <td>-85.024567</td>\n",
       "      <td>-58.534504</td>\n",
       "      <td>3.967406</td>\n",
       "      <td>5.706962</td>\n",
       "      <td>-4.425184</td>\n",
       "      <td>35.981323</td>\n",
       "    </tr>\n",
       "    <tr>\n",
       "      <th>8145.353834</th>\n",
       "      <td>-17.334515</td>\n",
       "      <td>-29.419844</td>\n",
       "      <td>-17.700735</td>\n",
       "      <td>-27.100437</td>\n",
       "      <td>20.111698</td>\n",
       "      <td>-92.257454</td>\n",
       "      <td>28.565325</td>\n",
       "      <td>-35.340435</td>\n",
       "      <td>-34.424881</td>\n",
       "      <td>-59.633171</td>\n",
       "      <td>-78.981903</td>\n",
       "      <td>-56.855984</td>\n",
       "      <td>-1.190222</td>\n",
       "      <td>6.347850</td>\n",
       "      <td>-8.606220</td>\n",
       "      <td>25.513475</td>\n",
       "    </tr>\n",
       "    <tr>\n",
       "      <th>8145.353865</th>\n",
       "      <td>-6.897183</td>\n",
       "      <td>-29.236732</td>\n",
       "      <td>-20.355846</td>\n",
       "      <td>-27.771845</td>\n",
       "      <td>1.678518</td>\n",
       "      <td>-103.274643</td>\n",
       "      <td>28.015993</td>\n",
       "      <td>-41.993469</td>\n",
       "      <td>-33.906067</td>\n",
       "      <td>-54.078800</td>\n",
       "      <td>-85.970642</td>\n",
       "      <td>-65.065468</td>\n",
       "      <td>-13.092441</td>\n",
       "      <td>1.861629</td>\n",
       "      <td>-10.528886</td>\n",
       "      <td>21.362957</td>\n",
       "    </tr>\n",
       "    <tr>\n",
       "      <th>8145.353896</th>\n",
       "      <td>-9.491257</td>\n",
       "      <td>-29.786066</td>\n",
       "      <td>-23.895994</td>\n",
       "      <td>-27.893919</td>\n",
       "      <td>-12.390515</td>\n",
       "      <td>-108.432266</td>\n",
       "      <td>25.696587</td>\n",
       "      <td>-46.357616</td>\n",
       "      <td>-31.586658</td>\n",
       "      <td>-51.576283</td>\n",
       "      <td>-96.346939</td>\n",
       "      <td>-81.850647</td>\n",
       "      <td>-21.820734</td>\n",
       "      <td>-3.082370</td>\n",
       "      <td>-8.270516</td>\n",
       "      <td>23.651846</td>\n",
       "    </tr>\n",
       "    <tr>\n",
       "      <th>...</th>\n",
       "      <td>...</td>\n",
       "      <td>...</td>\n",
       "      <td>...</td>\n",
       "      <td>...</td>\n",
       "      <td>...</td>\n",
       "      <td>...</td>\n",
       "      <td>...</td>\n",
       "      <td>...</td>\n",
       "      <td>...</td>\n",
       "      <td>...</td>\n",
       "      <td>...</td>\n",
       "      <td>...</td>\n",
       "      <td>...</td>\n",
       "      <td>...</td>\n",
       "      <td>...</td>\n",
       "      <td>...</td>\n",
       "    </tr>\n",
       "    <tr>\n",
       "      <th>9466.121646</th>\n",
       "      <td>-2.075259</td>\n",
       "      <td>-0.854518</td>\n",
       "      <td>-25.727104</td>\n",
       "      <td>8.392591</td>\n",
       "      <td>-2.655110</td>\n",
       "      <td>42.634357</td>\n",
       "      <td>-28.443253</td>\n",
       "      <td>20.447401</td>\n",
       "      <td>33.234657</td>\n",
       "      <td>11.139256</td>\n",
       "      <td>26.490067</td>\n",
       "      <td>3.387555</td>\n",
       "      <td>51.698357</td>\n",
       "      <td>42.695396</td>\n",
       "      <td>18.463699</td>\n",
       "      <td>34.516434</td>\n",
       "    </tr>\n",
       "    <tr>\n",
       "      <th>9466.121677</th>\n",
       "      <td>-1.068148</td>\n",
       "      <td>-5.340739</td>\n",
       "      <td>-26.123844</td>\n",
       "      <td>7.324442</td>\n",
       "      <td>-3.418073</td>\n",
       "      <td>37.842953</td>\n",
       "      <td>-31.037325</td>\n",
       "      <td>20.203255</td>\n",
       "      <td>32.959991</td>\n",
       "      <td>17.761772</td>\n",
       "      <td>19.409773</td>\n",
       "      <td>12.085330</td>\n",
       "      <td>37.720879</td>\n",
       "      <td>34.577473</td>\n",
       "      <td>9.338664</td>\n",
       "      <td>32.685326</td>\n",
       "    </tr>\n",
       "    <tr>\n",
       "      <th>9466.121709</th>\n",
       "      <td>1.037629</td>\n",
       "      <td>-9.613331</td>\n",
       "      <td>-22.370068</td>\n",
       "      <td>6.958220</td>\n",
       "      <td>-3.173925</td>\n",
       "      <td>38.087101</td>\n",
       "      <td>-26.245918</td>\n",
       "      <td>25.666067</td>\n",
       "      <td>38.178658</td>\n",
       "      <td>28.656881</td>\n",
       "      <td>22.064882</td>\n",
       "      <td>26.093327</td>\n",
       "      <td>37.171547</td>\n",
       "      <td>24.292734</td>\n",
       "      <td>6.317332</td>\n",
       "      <td>32.135990</td>\n",
       "    </tr>\n",
       "    <tr>\n",
       "      <th>9466.121740</th>\n",
       "      <td>2.288888</td>\n",
       "      <td>-15.869625</td>\n",
       "      <td>-15.503404</td>\n",
       "      <td>9.369183</td>\n",
       "      <td>-0.824000</td>\n",
       "      <td>47.029026</td>\n",
       "      <td>-16.907255</td>\n",
       "      <td>34.699547</td>\n",
       "      <td>47.578358</td>\n",
       "      <td>34.791103</td>\n",
       "      <td>29.145178</td>\n",
       "      <td>34.302807</td>\n",
       "      <td>43.427841</td>\n",
       "      <td>21.027254</td>\n",
       "      <td>14.374218</td>\n",
       "      <td>26.642660</td>\n",
       "    </tr>\n",
       "    <tr>\n",
       "      <th>9466.121771</th>\n",
       "      <td>-6.134221</td>\n",
       "      <td>-32.013916</td>\n",
       "      <td>-20.752586</td>\n",
       "      <td>6.042665</td>\n",
       "      <td>0.701926</td>\n",
       "      <td>50.935394</td>\n",
       "      <td>-20.142218</td>\n",
       "      <td>31.311991</td>\n",
       "      <td>46.998505</td>\n",
       "      <td>26.581623</td>\n",
       "      <td>24.048586</td>\n",
       "      <td>25.879696</td>\n",
       "      <td>34.943695</td>\n",
       "      <td>15.350811</td>\n",
       "      <td>16.632587</td>\n",
       "      <td>7.965331</td>\n",
       "    </tr>\n",
       "  </tbody>\n",
       "</table>\n",
       "<p>40848770 rows × 16 columns</p>\n",
       "</div>"
      ],
      "text/plain": [
       "                    0          1          2          3          4   \\\n",
       "Time (s)                                                             \n",
       "8145.353771 -22.797327 -26.459549 -18.524736 -25.849178   8.728294   \n",
       "8145.353802 -25.513475 -28.229622 -16.113773 -26.276438  24.201180   \n",
       "8145.353834 -17.334515 -29.419844 -17.700735 -27.100437  20.111698   \n",
       "8145.353865  -6.897183 -29.236732 -20.355846 -27.771845   1.678518   \n",
       "8145.353896  -9.491257 -29.786066 -23.895994 -27.893919 -12.390515   \n",
       "...                ...        ...        ...        ...        ...   \n",
       "9466.121646  -2.075259  -0.854518 -25.727104   8.392591  -2.655110   \n",
       "9466.121677  -1.068148  -5.340739 -26.123844   7.324442  -3.418073   \n",
       "9466.121709   1.037629  -9.613331 -22.370068   6.958220  -3.173925   \n",
       "9466.121740   2.288888 -15.869625 -15.503404   9.369183  -0.824000   \n",
       "9466.121771  -6.134221 -32.013916 -20.752586   6.042665   0.701926   \n",
       "\n",
       "                     5          6          7          8          9   \\\n",
       "Time (s)                                                              \n",
       "8145.353771  -80.355240  28.595844 -35.370953 -29.236732 -78.859833   \n",
       "8145.353802  -80.843536  27.802362 -33.173622 -31.678213 -68.758202   \n",
       "8145.353834  -92.257454  28.565325 -35.340435 -34.424881 -59.633171   \n",
       "8145.353865 -103.274643  28.015993 -41.993469 -33.906067 -54.078800   \n",
       "8145.353896 -108.432266  25.696587 -46.357616 -31.586658 -51.576283   \n",
       "...                 ...        ...        ...        ...        ...   \n",
       "9466.121646   42.634357 -28.443253  20.447401  33.234657  11.139256   \n",
       "9466.121677   37.842953 -31.037325  20.203255  32.959991  17.761772   \n",
       "9466.121709   38.087101 -26.245918  25.666067  38.178658  28.656881   \n",
       "9466.121740   47.029026 -16.907255  34.699547  47.578358  34.791103   \n",
       "9466.121771   50.935394 -20.142218  31.311991  46.998505  26.581623   \n",
       "\n",
       "                    10         11         12         13         14         15  \n",
       "Time (s)                                                                       \n",
       "8145.353771 -97.323532 -69.429611  -2.990814   1.159703  -2.044740  39.826656  \n",
       "8145.353802 -85.024567 -58.534504   3.967406   5.706962  -4.425184  35.981323  \n",
       "8145.353834 -78.981903 -56.855984  -1.190222   6.347850  -8.606220  25.513475  \n",
       "8145.353865 -85.970642 -65.065468 -13.092441   1.861629 -10.528886  21.362957  \n",
       "8145.353896 -96.346939 -81.850647 -21.820734  -3.082370  -8.270516  23.651846  \n",
       "...                ...        ...        ...        ...        ...        ...  \n",
       "9466.121646  26.490067   3.387555  51.698357  42.695396  18.463699  34.516434  \n",
       "9466.121677  19.409773  12.085330  37.720879  34.577473   9.338664  32.685326  \n",
       "9466.121709  22.064882  26.093327  37.171547  24.292734   6.317332  32.135990  \n",
       "9466.121740  29.145178  34.302807  43.427841  21.027254  14.374218  26.642660  \n",
       "9466.121771  24.048586  25.879696  34.943695  15.350811  16.632587   7.965331  \n",
       "\n",
       "[40848770 rows x 16 columns]"
      ]
     },
     "execution_count": 14,
     "metadata": {},
     "output_type": "execute_result"
    }
   ],
   "source": [
    "csc_data"
   ]
  },
  {
   "cell_type": "code",
   "execution_count": 15,
   "metadata": {},
   "outputs": [
    {
     "data": {
      "text/html": [
       "<div>\n",
       "<style scoped>\n",
       "    .dataframe tbody tr th:only-of-type {\n",
       "        vertical-align: middle;\n",
       "    }\n",
       "\n",
       "    .dataframe tbody tr th {\n",
       "        vertical-align: top;\n",
       "    }\n",
       "\n",
       "    .dataframe thead th {\n",
       "        text-align: right;\n",
       "    }\n",
       "</style>\n",
       "<table border=\"1\" class=\"dataframe\">\n",
       "  <thead>\n",
       "    <tr style=\"text-align: right;\">\n",
       "      <th></th>\n",
       "      <th>start_time</th>\n",
       "      <th>stop_time</th>\n",
       "      <th>tags</th>\n",
       "    </tr>\n",
       "    <tr>\n",
       "      <th>id</th>\n",
       "      <th></th>\n",
       "      <th></th>\n",
       "      <th></th>\n",
       "    </tr>\n",
       "  </thead>\n",
       "  <tbody>\n",
       "    <tr>\n",
       "      <th>0</th>\n",
       "      <td>8145.353771</td>\n",
       "      <td>8446.868771</td>\n",
       "      <td>[rec0]</td>\n",
       "    </tr>\n",
       "    <tr>\n",
       "      <th>1</th>\n",
       "      <td>8491.112771</td>\n",
       "      <td>9466.121771</td>\n",
       "      <td>[rec1]</td>\n",
       "    </tr>\n",
       "  </tbody>\n",
       "</table>\n",
       "</div>"
      ],
      "text/plain": [
       "     start_time    stop_time    tags\n",
       "id                                  \n",
       "0   8145.353771  8446.868771  [rec0]\n",
       "1   8491.112771  9466.121771  [rec1]"
      ]
     },
     "execution_count": 15,
     "metadata": {},
     "output_type": "execute_result"
    }
   ],
   "source": [
    "self.events"
   ]
  },
  {
   "cell_type": "code",
   "execution_count": 16,
   "metadata": {},
   "outputs": [],
   "source": [
    "self.csc_data = csc_data"
   ]
  },
  {
   "cell_type": "code",
   "execution_count": 17,
   "metadata": {},
   "outputs": [],
   "source": [
    "self.csc_data.index.name = 'Time (neuralynx)'"
   ]
  },
  {
   "cell_type": "code",
   "execution_count": 18,
   "metadata": {},
   "outputs": [
    {
     "data": {
      "text/plain": [
       "array([1., 1., 1., ..., 2., 2., 2.])"
      ]
     },
     "execution_count": 18,
     "metadata": {},
     "output_type": "execute_result"
    }
   ],
   "source": [
    "rec_var"
   ]
  },
  {
   "cell_type": "code",
   "execution_count": 19,
   "metadata": {},
   "outputs": [
    {
     "name": "stderr",
     "output_type": "stream",
     "text": [
      "/Users/js0403/anaconda3/envs/decode_lab_env/lib/python3.9/site-packages/pandas/core/dtypes/cast.py:1641: DeprecationWarning: np.find_common_type is deprecated.  Please use `np.result_type` or `np.promote_types`.\n",
      "See https://numpy.org/devdocs/release/1.25.0-notes.html and the docs for more information.  (Deprecated NumPy 1.25)\n",
      "  return np.find_common_type(types, [])\n"
     ]
    }
   ],
   "source": [
    "self.csc_data.insert(loc=0,column=\"Recording\",value=rec_var)"
   ]
  },
  {
   "cell_type": "code",
   "execution_count": 20,
   "metadata": {},
   "outputs": [
    {
     "data": {
      "text/html": [
       "<div>\n",
       "<style scoped>\n",
       "    .dataframe tbody tr th:only-of-type {\n",
       "        vertical-align: middle;\n",
       "    }\n",
       "\n",
       "    .dataframe tbody tr th {\n",
       "        vertical-align: top;\n",
       "    }\n",
       "\n",
       "    .dataframe thead th {\n",
       "        text-align: right;\n",
       "    }\n",
       "</style>\n",
       "<table border=\"1\" class=\"dataframe\">\n",
       "  <thead>\n",
       "    <tr style=\"text-align: right;\">\n",
       "      <th></th>\n",
       "      <th>Recording</th>\n",
       "      <th>0</th>\n",
       "      <th>1</th>\n",
       "      <th>2</th>\n",
       "      <th>3</th>\n",
       "      <th>4</th>\n",
       "      <th>5</th>\n",
       "      <th>6</th>\n",
       "      <th>7</th>\n",
       "      <th>8</th>\n",
       "      <th>9</th>\n",
       "      <th>10</th>\n",
       "      <th>11</th>\n",
       "      <th>12</th>\n",
       "      <th>13</th>\n",
       "      <th>14</th>\n",
       "      <th>15</th>\n",
       "    </tr>\n",
       "    <tr>\n",
       "      <th>Time (neuralynx)</th>\n",
       "      <th></th>\n",
       "      <th></th>\n",
       "      <th></th>\n",
       "      <th></th>\n",
       "      <th></th>\n",
       "      <th></th>\n",
       "      <th></th>\n",
       "      <th></th>\n",
       "      <th></th>\n",
       "      <th></th>\n",
       "      <th></th>\n",
       "      <th></th>\n",
       "      <th></th>\n",
       "      <th></th>\n",
       "      <th></th>\n",
       "      <th></th>\n",
       "      <th></th>\n",
       "    </tr>\n",
       "  </thead>\n",
       "  <tbody>\n",
       "    <tr>\n",
       "      <th>8145.353771</th>\n",
       "      <td>1.0</td>\n",
       "      <td>-22.797327</td>\n",
       "      <td>-26.459549</td>\n",
       "      <td>-18.524736</td>\n",
       "      <td>-25.849178</td>\n",
       "      <td>8.728294</td>\n",
       "      <td>-80.355240</td>\n",
       "      <td>28.595844</td>\n",
       "      <td>-35.370953</td>\n",
       "      <td>-29.236732</td>\n",
       "      <td>-78.859833</td>\n",
       "      <td>-97.323532</td>\n",
       "      <td>-69.429611</td>\n",
       "      <td>-2.990814</td>\n",
       "      <td>1.159703</td>\n",
       "      <td>-2.044740</td>\n",
       "      <td>39.826656</td>\n",
       "    </tr>\n",
       "    <tr>\n",
       "      <th>8145.353802</th>\n",
       "      <td>1.0</td>\n",
       "      <td>-25.513475</td>\n",
       "      <td>-28.229622</td>\n",
       "      <td>-16.113773</td>\n",
       "      <td>-26.276438</td>\n",
       "      <td>24.201180</td>\n",
       "      <td>-80.843536</td>\n",
       "      <td>27.802362</td>\n",
       "      <td>-33.173622</td>\n",
       "      <td>-31.678213</td>\n",
       "      <td>-68.758202</td>\n",
       "      <td>-85.024567</td>\n",
       "      <td>-58.534504</td>\n",
       "      <td>3.967406</td>\n",
       "      <td>5.706962</td>\n",
       "      <td>-4.425184</td>\n",
       "      <td>35.981323</td>\n",
       "    </tr>\n",
       "    <tr>\n",
       "      <th>8145.353834</th>\n",
       "      <td>1.0</td>\n",
       "      <td>-17.334515</td>\n",
       "      <td>-29.419844</td>\n",
       "      <td>-17.700735</td>\n",
       "      <td>-27.100437</td>\n",
       "      <td>20.111698</td>\n",
       "      <td>-92.257454</td>\n",
       "      <td>28.565325</td>\n",
       "      <td>-35.340435</td>\n",
       "      <td>-34.424881</td>\n",
       "      <td>-59.633171</td>\n",
       "      <td>-78.981903</td>\n",
       "      <td>-56.855984</td>\n",
       "      <td>-1.190222</td>\n",
       "      <td>6.347850</td>\n",
       "      <td>-8.606220</td>\n",
       "      <td>25.513475</td>\n",
       "    </tr>\n",
       "    <tr>\n",
       "      <th>8145.353865</th>\n",
       "      <td>1.0</td>\n",
       "      <td>-6.897183</td>\n",
       "      <td>-29.236732</td>\n",
       "      <td>-20.355846</td>\n",
       "      <td>-27.771845</td>\n",
       "      <td>1.678518</td>\n",
       "      <td>-103.274643</td>\n",
       "      <td>28.015993</td>\n",
       "      <td>-41.993469</td>\n",
       "      <td>-33.906067</td>\n",
       "      <td>-54.078800</td>\n",
       "      <td>-85.970642</td>\n",
       "      <td>-65.065468</td>\n",
       "      <td>-13.092441</td>\n",
       "      <td>1.861629</td>\n",
       "      <td>-10.528886</td>\n",
       "      <td>21.362957</td>\n",
       "    </tr>\n",
       "    <tr>\n",
       "      <th>8145.353896</th>\n",
       "      <td>1.0</td>\n",
       "      <td>-9.491257</td>\n",
       "      <td>-29.786066</td>\n",
       "      <td>-23.895994</td>\n",
       "      <td>-27.893919</td>\n",
       "      <td>-12.390515</td>\n",
       "      <td>-108.432266</td>\n",
       "      <td>25.696587</td>\n",
       "      <td>-46.357616</td>\n",
       "      <td>-31.586658</td>\n",
       "      <td>-51.576283</td>\n",
       "      <td>-96.346939</td>\n",
       "      <td>-81.850647</td>\n",
       "      <td>-21.820734</td>\n",
       "      <td>-3.082370</td>\n",
       "      <td>-8.270516</td>\n",
       "      <td>23.651846</td>\n",
       "    </tr>\n",
       "    <tr>\n",
       "      <th>...</th>\n",
       "      <td>...</td>\n",
       "      <td>...</td>\n",
       "      <td>...</td>\n",
       "      <td>...</td>\n",
       "      <td>...</td>\n",
       "      <td>...</td>\n",
       "      <td>...</td>\n",
       "      <td>...</td>\n",
       "      <td>...</td>\n",
       "      <td>...</td>\n",
       "      <td>...</td>\n",
       "      <td>...</td>\n",
       "      <td>...</td>\n",
       "      <td>...</td>\n",
       "      <td>...</td>\n",
       "      <td>...</td>\n",
       "      <td>...</td>\n",
       "    </tr>\n",
       "    <tr>\n",
       "      <th>9466.121646</th>\n",
       "      <td>2.0</td>\n",
       "      <td>-2.075259</td>\n",
       "      <td>-0.854518</td>\n",
       "      <td>-25.727104</td>\n",
       "      <td>8.392591</td>\n",
       "      <td>-2.655110</td>\n",
       "      <td>42.634357</td>\n",
       "      <td>-28.443253</td>\n",
       "      <td>20.447401</td>\n",
       "      <td>33.234657</td>\n",
       "      <td>11.139256</td>\n",
       "      <td>26.490067</td>\n",
       "      <td>3.387555</td>\n",
       "      <td>51.698357</td>\n",
       "      <td>42.695396</td>\n",
       "      <td>18.463699</td>\n",
       "      <td>34.516434</td>\n",
       "    </tr>\n",
       "    <tr>\n",
       "      <th>9466.121677</th>\n",
       "      <td>2.0</td>\n",
       "      <td>-1.068148</td>\n",
       "      <td>-5.340739</td>\n",
       "      <td>-26.123844</td>\n",
       "      <td>7.324442</td>\n",
       "      <td>-3.418073</td>\n",
       "      <td>37.842953</td>\n",
       "      <td>-31.037325</td>\n",
       "      <td>20.203255</td>\n",
       "      <td>32.959991</td>\n",
       "      <td>17.761772</td>\n",
       "      <td>19.409773</td>\n",
       "      <td>12.085330</td>\n",
       "      <td>37.720879</td>\n",
       "      <td>34.577473</td>\n",
       "      <td>9.338664</td>\n",
       "      <td>32.685326</td>\n",
       "    </tr>\n",
       "    <tr>\n",
       "      <th>9466.121709</th>\n",
       "      <td>2.0</td>\n",
       "      <td>1.037629</td>\n",
       "      <td>-9.613331</td>\n",
       "      <td>-22.370068</td>\n",
       "      <td>6.958220</td>\n",
       "      <td>-3.173925</td>\n",
       "      <td>38.087101</td>\n",
       "      <td>-26.245918</td>\n",
       "      <td>25.666067</td>\n",
       "      <td>38.178658</td>\n",
       "      <td>28.656881</td>\n",
       "      <td>22.064882</td>\n",
       "      <td>26.093327</td>\n",
       "      <td>37.171547</td>\n",
       "      <td>24.292734</td>\n",
       "      <td>6.317332</td>\n",
       "      <td>32.135990</td>\n",
       "    </tr>\n",
       "    <tr>\n",
       "      <th>9466.121740</th>\n",
       "      <td>2.0</td>\n",
       "      <td>2.288888</td>\n",
       "      <td>-15.869625</td>\n",
       "      <td>-15.503404</td>\n",
       "      <td>9.369183</td>\n",
       "      <td>-0.824000</td>\n",
       "      <td>47.029026</td>\n",
       "      <td>-16.907255</td>\n",
       "      <td>34.699547</td>\n",
       "      <td>47.578358</td>\n",
       "      <td>34.791103</td>\n",
       "      <td>29.145178</td>\n",
       "      <td>34.302807</td>\n",
       "      <td>43.427841</td>\n",
       "      <td>21.027254</td>\n",
       "      <td>14.374218</td>\n",
       "      <td>26.642660</td>\n",
       "    </tr>\n",
       "    <tr>\n",
       "      <th>9466.121771</th>\n",
       "      <td>2.0</td>\n",
       "      <td>-6.134221</td>\n",
       "      <td>-32.013916</td>\n",
       "      <td>-20.752586</td>\n",
       "      <td>6.042665</td>\n",
       "      <td>0.701926</td>\n",
       "      <td>50.935394</td>\n",
       "      <td>-20.142218</td>\n",
       "      <td>31.311991</td>\n",
       "      <td>46.998505</td>\n",
       "      <td>26.581623</td>\n",
       "      <td>24.048586</td>\n",
       "      <td>25.879696</td>\n",
       "      <td>34.943695</td>\n",
       "      <td>15.350811</td>\n",
       "      <td>16.632587</td>\n",
       "      <td>7.965331</td>\n",
       "    </tr>\n",
       "  </tbody>\n",
       "</table>\n",
       "<p>40848770 rows × 17 columns</p>\n",
       "</div>"
      ],
      "text/plain": [
       "             Recording          0          1          2          3          4  \\\n",
       "Time (s)                                                                        \n",
       "8145.353771        1.0 -22.797327 -26.459549 -18.524736 -25.849178   8.728294   \n",
       "8145.353802        1.0 -25.513475 -28.229622 -16.113773 -26.276438  24.201180   \n",
       "8145.353834        1.0 -17.334515 -29.419844 -17.700735 -27.100437  20.111698   \n",
       "8145.353865        1.0  -6.897183 -29.236732 -20.355846 -27.771845   1.678518   \n",
       "8145.353896        1.0  -9.491257 -29.786066 -23.895994 -27.893919 -12.390515   \n",
       "...                ...        ...        ...        ...        ...        ...   \n",
       "9466.121646        2.0  -2.075259  -0.854518 -25.727104   8.392591  -2.655110   \n",
       "9466.121677        2.0  -1.068148  -5.340739 -26.123844   7.324442  -3.418073   \n",
       "9466.121709        2.0   1.037629  -9.613331 -22.370068   6.958220  -3.173925   \n",
       "9466.121740        2.0   2.288888 -15.869625 -15.503404   9.369183  -0.824000   \n",
       "9466.121771        2.0  -6.134221 -32.013916 -20.752586   6.042665   0.701926   \n",
       "\n",
       "                      5          6          7          8          9  \\\n",
       "Time (s)                                                              \n",
       "8145.353771  -80.355240  28.595844 -35.370953 -29.236732 -78.859833   \n",
       "8145.353802  -80.843536  27.802362 -33.173622 -31.678213 -68.758202   \n",
       "8145.353834  -92.257454  28.565325 -35.340435 -34.424881 -59.633171   \n",
       "8145.353865 -103.274643  28.015993 -41.993469 -33.906067 -54.078800   \n",
       "8145.353896 -108.432266  25.696587 -46.357616 -31.586658 -51.576283   \n",
       "...                 ...        ...        ...        ...        ...   \n",
       "9466.121646   42.634357 -28.443253  20.447401  33.234657  11.139256   \n",
       "9466.121677   37.842953 -31.037325  20.203255  32.959991  17.761772   \n",
       "9466.121709   38.087101 -26.245918  25.666067  38.178658  28.656881   \n",
       "9466.121740   47.029026 -16.907255  34.699547  47.578358  34.791103   \n",
       "9466.121771   50.935394 -20.142218  31.311991  46.998505  26.581623   \n",
       "\n",
       "                    10         11         12         13         14         15  \n",
       "Time (s)                                                                       \n",
       "8145.353771 -97.323532 -69.429611  -2.990814   1.159703  -2.044740  39.826656  \n",
       "8145.353802 -85.024567 -58.534504   3.967406   5.706962  -4.425184  35.981323  \n",
       "8145.353834 -78.981903 -56.855984  -1.190222   6.347850  -8.606220  25.513475  \n",
       "8145.353865 -85.970642 -65.065468 -13.092441   1.861629 -10.528886  21.362957  \n",
       "8145.353896 -96.346939 -81.850647 -21.820734  -3.082370  -8.270516  23.651846  \n",
       "...                ...        ...        ...        ...        ...        ...  \n",
       "9466.121646  26.490067   3.387555  51.698357  42.695396  18.463699  34.516434  \n",
       "9466.121677  19.409773  12.085330  37.720879  34.577473   9.338664  32.685326  \n",
       "9466.121709  22.064882  26.093327  37.171547  24.292734   6.317332  32.135990  \n",
       "9466.121740  29.145178  34.302807  43.427841  21.027254  14.374218  26.642660  \n",
       "9466.121771  24.048586  25.879696  34.943695  15.350811  16.632587   7.965331  \n",
       "\n",
       "[40848770 rows x 17 columns]"
      ]
     },
     "execution_count": 20,
     "metadata": {},
     "output_type": "execute_result"
    }
   ],
   "source": [
    "self.csc_data"
   ]
  },
  {
   "cell_type": "code",
   "execution_count": 21,
   "metadata": {},
   "outputs": [
    {
     "data": {
      "text/plain": [
       "2"
      ]
     },
     "execution_count": 21,
     "metadata": {},
     "output_type": "execute_result"
    }
   ],
   "source": [
    "len(start_times)"
   ]
  },
  {
   "cell_type": "code",
   "execution_count": 22,
   "metadata": {},
   "outputs": [
    {
     "data": {
      "text/plain": [
       "(array([      0,       1,       2, ..., 9648478, 9648479, 9648480]),)"
      ]
     },
     "execution_count": 22,
     "metadata": {},
     "output_type": "execute_result"
    }
   ],
   "source": [
    "np.where(rec_var==1.0)"
   ]
  },
  {
   "cell_type": "code",
   "execution_count": 23,
   "metadata": {},
   "outputs": [
    {
     "data": {
      "text/plain": [
       "1"
      ]
     },
     "execution_count": 23,
     "metadata": {},
     "output_type": "execute_result"
    }
   ],
   "source": [
    "len(np.where(rec_var==1.0))"
   ]
  },
  {
   "cell_type": "code",
   "execution_count": 24,
   "metadata": {},
   "outputs": [
    {
     "ename": "AttributeError",
     "evalue": "'tuple' object has no attribute 'shape'",
     "output_type": "error",
     "traceback": [
      "\u001b[0;31m---------------------------------------------------------------------------\u001b[0m",
      "\u001b[0;31mAttributeError\u001b[0m                            Traceback (most recent call last)",
      "Cell \u001b[0;32mIn[24], line 1\u001b[0m\n\u001b[0;32m----> 1\u001b[0m np\u001b[39m.\u001b[39;49mwhere(rec_var\u001b[39m==\u001b[39;49m\u001b[39m1.0\u001b[39;49m)\u001b[39m.\u001b[39;49mshape\n",
      "\u001b[0;31mAttributeError\u001b[0m: 'tuple' object has no attribute 'shape'"
     ]
    }
   ],
   "source": [
    "np.where(rec_var==1.0).shape"
   ]
  },
  {
   "cell_type": "code",
   "execution_count": 25,
   "metadata": {},
   "outputs": [
    {
     "data": {
      "text/plain": [
       "array([      0,       1,       2, ..., 9648478, 9648479, 9648480])"
      ]
     },
     "execution_count": 25,
     "metadata": {},
     "output_type": "execute_result"
    }
   ],
   "source": [
    "np.where(rec_var==1.0)[0]"
   ]
  },
  {
   "cell_type": "code",
   "execution_count": 26,
   "metadata": {},
   "outputs": [
    {
     "data": {
      "text/plain": [
       "(9648481,)"
      ]
     },
     "execution_count": 26,
     "metadata": {},
     "output_type": "execute_result"
    }
   ],
   "source": [
    "np.where(rec_var==1.0)[0].shape"
   ]
  },
  {
   "cell_type": "code",
   "execution_count": 27,
   "metadata": {},
   "outputs": [
    {
     "data": {
      "text/plain": [
       "9648481"
      ]
     },
     "execution_count": 27,
     "metadata": {},
     "output_type": "execute_result"
    }
   ],
   "source": [
    "np.where(rec_var==1.0)[0].shape[0]"
   ]
  },
  {
   "cell_type": "code",
   "execution_count": 28,
   "metadata": {},
   "outputs": [
    {
     "data": {
      "text/plain": [
       "301.51503125"
      ]
     },
     "execution_count": 28,
     "metadata": {},
     "output_type": "execute_result"
    }
   ],
   "source": [
    "np.where(rec_var==1.0)[0].shape[0]/self.fs"
   ]
  },
  {
   "cell_type": "code",
   "execution_count": 29,
   "metadata": {},
   "outputs": [
    {
     "ename": "IndexError",
     "evalue": "list assignment index out of range",
     "output_type": "error",
     "traceback": [
      "\u001b[0;31m---------------------------------------------------------------------------\u001b[0m",
      "\u001b[0;31mIndexError\u001b[0m                                Traceback (most recent call last)",
      "\u001b[1;32m/Users/js0403/decode_lab_code/src/decode_lab_code/analyze/spectral.py\u001b[0m in \u001b[0;36mline 5\n\u001b[1;32m      <a href='file:///Users/js0403/decode_lab_code/src/decode_lab_code/analyze/spectral.py?line=86'>87</a>\u001b[0m rec_var[start_idx[i][\u001b[39m0\u001b[39m][\u001b[39m0\u001b[39m]:end_idx[i][\u001b[39m0\u001b[39m][\u001b[39m0\u001b[39m]\u001b[39m+\u001b[39m\u001b[39m1\u001b[39m]\u001b[39m=\u001b[39mi\u001b[39m+\u001b[39m\u001b[39m1\u001b[39m\n\u001b[1;32m      <a href='file:///Users/js0403/decode_lab_code/src/decode_lab_code/analyze/spectral.py?line=87'>88</a>\u001b[0m numsamples \u001b[39m=\u001b[39m np\u001b[39m.\u001b[39mwhere(rec_var\u001b[39m==\u001b[39m\u001b[39m1.0\u001b[39m)[\u001b[39m0\u001b[39m]\u001b[39m.\u001b[39mshape[\u001b[39m0\u001b[39m]\n\u001b[0;32m----> <a href='file:///Users/js0403/decode_lab_code/src/decode_lab_code/analyze/spectral.py?line=88'>89</a>\u001b[0m times[i] \u001b[39m=\u001b[39m np\u001b[39m.\u001b[39mlinspace(\u001b[39m0\u001b[39m,numsamples\u001b[39m/\u001b[39m\u001b[39mself\u001b[39m\u001b[39m.\u001b[39mfs,numsamples)\n",
      "\u001b[0;31mIndexError\u001b[0m: list assignment index out of range"
     ]
    }
   ],
   "source": [
    "rec_var = np.zeros(csc_data.shape[0]); times = []\n",
    "for i in range(len(start_times)):\n",
    "    rec_var[start_idx[i][0][0]:end_idx[i][0][0]+1]=i+1\n",
    "    numsamples = np.where(rec_var==1.0)[0].shape[0]\n",
    "    times[i] = np.linspace(0,numsamples/self.fs,numsamples)"
   ]
  },
  {
   "cell_type": "code",
   "execution_count": 30,
   "metadata": {},
   "outputs": [
    {
     "data": {
      "text/plain": [
       "9648481"
      ]
     },
     "execution_count": 30,
     "metadata": {},
     "output_type": "execute_result"
    }
   ],
   "source": [
    "np.where(rec_var==1.0)[0].shape[0]"
   ]
  },
  {
   "cell_type": "code",
   "execution_count": 31,
   "metadata": {},
   "outputs": [
    {
     "data": {
      "text/plain": [
       "32000.0"
      ]
     },
     "execution_count": 31,
     "metadata": {},
     "output_type": "execute_result"
    }
   ],
   "source": [
    "self.fs"
   ]
  },
  {
   "cell_type": "code",
   "execution_count": 32,
   "metadata": {},
   "outputs": [
    {
     "data": {
      "text/plain": [
       "301.51503125"
      ]
     },
     "execution_count": 32,
     "metadata": {},
     "output_type": "execute_result"
    }
   ],
   "source": [
    "numsamples/self.fs"
   ]
  },
  {
   "cell_type": "code",
   "execution_count": 33,
   "metadata": {},
   "outputs": [
    {
     "data": {
      "text/plain": [
       "9648481"
      ]
     },
     "execution_count": 33,
     "metadata": {},
     "output_type": "execute_result"
    }
   ],
   "source": [
    "numsamples"
   ]
  },
  {
   "cell_type": "code",
   "execution_count": 34,
   "metadata": {},
   "outputs": [
    {
     "data": {
      "text/plain": [
       "array([0.00000000e+00, 3.12500032e-05, 6.25000065e-05, ...,\n",
       "       3.01514969e+02, 3.01515000e+02, 3.01515031e+02])"
      ]
     },
     "execution_count": 34,
     "metadata": {},
     "output_type": "execute_result"
    }
   ],
   "source": [
    "np.linspace(0,numsamples/self.fs,numsamples)"
   ]
  },
  {
   "cell_type": "code",
   "execution_count": 35,
   "metadata": {},
   "outputs": [],
   "source": [
    "times = []"
   ]
  },
  {
   "cell_type": "code",
   "execution_count": 36,
   "metadata": {},
   "outputs": [
    {
     "ename": "IndexError",
     "evalue": "list assignment index out of range",
     "output_type": "error",
     "traceback": [
      "\u001b[0;31m---------------------------------------------------------------------------\u001b[0m",
      "\u001b[0;31mIndexError\u001b[0m                                Traceback (most recent call last)",
      "\u001b[1;32m/Users/js0403/decode_lab_code/src/decode_lab_code/analyze/spectral.py\u001b[0m in \u001b[0;36mline 1\n\u001b[0;32m----> <a href='file:///Users/js0403/decode_lab_code/src/decode_lab_code/analyze/spectral.py?line=88'>89</a>\u001b[0m times[i] \u001b[39m=\u001b[39m np\u001b[39m.\u001b[39mlinspace(\u001b[39m0\u001b[39m,numsamples\u001b[39m/\u001b[39m\u001b[39mself\u001b[39m\u001b[39m.\u001b[39mfs,numsamples)\n",
      "\u001b[0;31mIndexError\u001b[0m: list assignment index out of range"
     ]
    }
   ],
   "source": [
    "times[i] = np.linspace(0,numsamples/self.fs,numsamples)"
   ]
  },
  {
   "cell_type": "code",
   "execution_count": 37,
   "metadata": {},
   "outputs": [
    {
     "data": {
      "text/plain": [
       "301.51503125"
      ]
     },
     "execution_count": 37,
     "metadata": {},
     "output_type": "execute_result"
    }
   ],
   "source": [
    "numsamples/self.fs"
   ]
  },
  {
   "cell_type": "code",
   "execution_count": 38,
   "metadata": {},
   "outputs": [
    {
     "ename": "IndexError",
     "evalue": "list index out of range",
     "output_type": "error",
     "traceback": [
      "\u001b[0;31m---------------------------------------------------------------------------\u001b[0m",
      "\u001b[0;31mIndexError\u001b[0m                                Traceback (most recent call last)",
      "\u001b[1;32m/Users/js0403/decode_lab_code/src/decode_lab_code/analyze/spectral.py\u001b[0m in \u001b[0;36mline 1\n\u001b[0;32m----> <a href='file:///Users/js0403/decode_lab_code/src/decode_lab_code/analyze/spectral.py?line=88'>89</a>\u001b[0m times[i]\n",
      "\u001b[0;31mIndexError\u001b[0m: list index out of range"
     ]
    }
   ],
   "source": [
    "times[i]"
   ]
  },
  {
   "cell_type": "code",
   "execution_count": 39,
   "metadata": {},
   "outputs": [
    {
     "data": {
      "text/plain": [
       "array([0.00000000e+00, 3.12500032e-05, 6.25000065e-05, ...,\n",
       "       3.01514969e+02, 3.01515000e+02, 3.01515031e+02])"
      ]
     },
     "execution_count": 39,
     "metadata": {},
     "output_type": "execute_result"
    }
   ],
   "source": [
    "np.linspace(0,numsamples/self.fs,numsamples)"
   ]
  },
  {
   "cell_type": "code",
   "execution_count": 40,
   "metadata": {},
   "outputs": [],
   "source": [
    "rec_var = np.zeros(csc_data.shape[0]); times = []\n",
    "for i in range(len(start_times)):\n",
    "    rec_var[start_idx[i][0][0]:end_idx[i][0][0]+1]=i+1\n",
    "    numsamples = np.where(rec_var==1.0)[0].shape[0]\n",
    "    times.append(np.linspace(0,numsamples/self.fs,numsamples))"
   ]
  },
  {
   "cell_type": "code",
   "execution_count": 41,
   "metadata": {},
   "outputs": [
    {
     "data": {
      "text/plain": [
       "[array([0.00000000e+00, 3.12500032e-05, 6.25000065e-05, ...,\n",
       "        3.01514969e+02, 3.01515000e+02, 3.01515031e+02]),\n",
       " array([0.00000000e+00, 3.12500032e-05, 6.25000065e-05, ...,\n",
       "        3.01514969e+02, 3.01515000e+02, 3.01515031e+02])]"
      ]
     },
     "execution_count": 41,
     "metadata": {},
     "output_type": "execute_result"
    }
   ],
   "source": [
    "times"
   ]
  },
  {
   "cell_type": "code",
   "execution_count": 42,
   "metadata": {},
   "outputs": [
    {
     "data": {
      "text/plain": [
       "1.0"
      ]
     },
     "execution_count": 42,
     "metadata": {},
     "output_type": "execute_result"
    }
   ],
   "source": [
    "float(i)"
   ]
  },
  {
   "cell_type": "code",
   "execution_count": 43,
   "metadata": {},
   "outputs": [],
   "source": [
    "rec_var = np.zeros(csc_data.shape[0]); times = []\n",
    "for i in range(len(start_times)):\n",
    "    rec_var[start_idx[i][0][0]:end_idx[i][0][0]+1]=i+1\n",
    "    numsamples = np.where(rec_var==float(i+1))[0].shape[0]\n",
    "    times.append(np.linspace(0,numsamples/self.fs,numsamples))"
   ]
  },
  {
   "cell_type": "code",
   "execution_count": 44,
   "metadata": {},
   "outputs": [
    {
     "data": {
      "text/plain": [
       "[array([0.00000000e+00, 3.12500032e-05, 6.25000065e-05, ...,\n",
       "        3.01514969e+02, 3.01515000e+02, 3.01515031e+02]),\n",
       " array([0.00000000e+00, 3.12500010e-05, 6.25000020e-05, ...,\n",
       "        9.75008969e+02, 9.75009000e+02, 9.75009031e+02])]"
      ]
     },
     "execution_count": 44,
     "metadata": {},
     "output_type": "execute_result"
    }
   ],
   "source": [
    "times"
   ]
  },
  {
   "cell_type": "code",
   "execution_count": 45,
   "metadata": {},
   "outputs": [],
   "source": [
    "times_data = np.hstack(times)"
   ]
  },
  {
   "cell_type": "code",
   "execution_count": 46,
   "metadata": {},
   "outputs": [
    {
     "data": {
      "text/plain": [
       "array([0.00000000e+00, 3.12500032e-05, 6.25000065e-05, ...,\n",
       "       9.75008969e+02, 9.75009000e+02, 9.75009031e+02])"
      ]
     },
     "execution_count": 46,
     "metadata": {},
     "output_type": "execute_result"
    }
   ],
   "source": [
    "times_data"
   ]
  },
  {
   "cell_type": "code",
   "execution_count": 47,
   "metadata": {},
   "outputs": [
    {
     "data": {
      "text/plain": [
       "[<matplotlib.lines.Line2D at 0x2b8c0cfd0>]"
      ]
     },
     "execution_count": 47,
     "metadata": {},
     "output_type": "execute_result"
    },
    {
     "data": {
      "image/png": "[encoded data removed]",
      "text/plain": [
       "<Figure size 640x480 with 1 Axes>"
      ]
     },
     "metadata": {},
     "output_type": "display_data"
    }
   ],
   "source": [
    "plt.plot(times_data)"
   ]
  },
  {
   "cell_type": "code",
   "execution_count": 48,
   "metadata": {},
   "outputs": [
    {
     "data": {
      "text/plain": [
       "array([0.00000000e+00, 3.12500032e-05, 6.25000065e-05, ...,\n",
       "       9.75008969e+02, 9.75009000e+02, 9.75009031e+02])"
      ]
     },
     "execution_count": 48,
     "metadata": {},
     "output_type": "execute_result"
    }
   ],
   "source": [
    "times_data"
   ]
  },
  {
   "cell_type": "code",
   "execution_count": 49,
   "metadata": {},
   "outputs": [
    {
     "data": {
      "text/plain": [
       "0.0"
      ]
     },
     "execution_count": 49,
     "metadata": {},
     "output_type": "execute_result"
    }
   ],
   "source": [
    "times_data[0]"
   ]
  },
  {
   "cell_type": "code",
   "execution_count": 50,
   "metadata": {},
   "outputs": [
    {
     "ename": "ValueError",
     "evalue": "cannot insert Recording, already exists",
     "output_type": "error",
     "traceback": [
      "\u001b[0;31m---------------------------------------------------------------------------\u001b[0m",
      "\u001b[0;31mValueError\u001b[0m                                Traceback (most recent call last)",
      "\u001b[0;32m<ipython-input-50-4680b0f2243f>\u001b[0m in \u001b[0;36m?\u001b[0;34m()\u001b[0m\n\u001b[0;32m----> 3\u001b[0;31m \u001b[0mself\u001b[0m\u001b[0;34m.\u001b[0m\u001b[0mcsc_data\u001b[0m \u001b[0;34m=\u001b[0m \u001b[0mcsc_data\u001b[0m\u001b[0;34m\u001b[0m\u001b[0;34m\u001b[0m\u001b[0m\n\u001b[0m\u001b[1;32m      4\u001b[0m \u001b[0mself\u001b[0m\u001b[0;34m.\u001b[0m\u001b[0mcsc_data\u001b[0m\u001b[0;34m.\u001b[0m\u001b[0mindex\u001b[0m\u001b[0;34m.\u001b[0m\u001b[0mname\u001b[0m \u001b[0;34m=\u001b[0m \u001b[0;34m'Time (neuralynx)'\u001b[0m\u001b[0;34m\u001b[0m\u001b[0;34m\u001b[0m\u001b[0m\n\u001b[1;32m      5\u001b[0m \u001b[0mself\u001b[0m\u001b[0;34m.\u001b[0m\u001b[0mcsc_data\u001b[0m\u001b[0;34m.\u001b[0m\u001b[0minsert\u001b[0m\u001b[0;34m(\u001b[0m\u001b[0mloc\u001b[0m\u001b[0;34m=\u001b[0m\u001b[0;36m0\u001b[0m\u001b[0;34m,\u001b[0m\u001b[0mcolumn\u001b[0m\u001b[0;34m=\u001b[0m\u001b[0;34m\"Recording\"\u001b[0m\u001b[0;34m,\u001b[0m\u001b[0mvalue\u001b[0m\u001b[0;34m=\u001b[0m\u001b[0mrec_var\u001b[0m\u001b[0;34m)\u001b[0m\u001b[0;34m\u001b[0m\u001b[0;34m\u001b[0m\u001b[0m\n\u001b[1;32m      6\u001b[0m \u001b[0mself\u001b[0m\u001b[0;34m.\u001b[0m\u001b[0mcsc_data\u001b[0m\u001b[0;34m.\u001b[0m\u001b[0minsert\u001b[0m\u001b[0;34m(\u001b[0m\u001b[0mloc\u001b[0m\u001b[0;34m=\u001b[0m\u001b[0;36m0\u001b[0m\u001b[0;34m,\u001b[0m\u001b[0mcolumn\u001b[0m\u001b[0;34m=\u001b[0m\u001b[0;34m\"Time (sec)\"\u001b[0m\u001b[0;34m,\u001b[0m\u001b[0mvalue\u001b[0m\u001b[0;34m=\u001b[0m\u001b[0mtimes_data\u001b[0m\u001b[0;34m)\u001b[0m\u001b[0;34m\u001b[0m\u001b[0;34m\u001b[0m\u001b[0m\n",
      "\u001b[0;32m~/anaconda3/envs/decode_lab_env/lib/python3.9/site-packages/pandas/core/frame.py\u001b[0m in \u001b[0;36m?\u001b[0;34m(self, loc, column, value, allow_duplicates)\u001b[0m\n\u001b[1;32m   4813\u001b[0m                 \u001b[0;34m\"'self.flags.allows_duplicate_labels' is False.\"\u001b[0m\u001b[0;34m\u001b[0m\u001b[0;34m\u001b[0m\u001b[0m\n\u001b[1;32m   4814\u001b[0m             )\n\u001b[1;32m   4815\u001b[0m         \u001b[0;32mif\u001b[0m \u001b[0;32mnot\u001b[0m \u001b[0mallow_duplicates\u001b[0m \u001b[0;32mand\u001b[0m \u001b[0mcolumn\u001b[0m \u001b[0;32min\u001b[0m \u001b[0mself\u001b[0m\u001b[0;34m.\u001b[0m\u001b[0mcolumns\u001b[0m\u001b[0;34m:\u001b[0m\u001b[0;34m\u001b[0m\u001b[0;34m\u001b[0m\u001b[0m\n\u001b[1;32m   4816\u001b[0m             \u001b[0;31m# Should this be a different kind of error??\u001b[0m\u001b[0;34m\u001b[0m\u001b[0;34m\u001b[0m\u001b[0m\n\u001b[0;32m-> 4817\u001b[0;31m             \u001b[0;32mraise\u001b[0m \u001b[0mValueError\u001b[0m\u001b[0;34m(\u001b[0m\u001b[0;34mf\"cannot insert {column}, already exists\"\u001b[0m\u001b[0;34m)\u001b[0m\u001b[0;34m\u001b[0m\u001b[0;34m\u001b[0m\u001b[0m\n\u001b[0m\u001b[1;32m   4818\u001b[0m         \u001b[0;32mif\u001b[0m \u001b[0;32mnot\u001b[0m \u001b[0misinstance\u001b[0m\u001b[0;34m(\u001b[0m\u001b[0mloc\u001b[0m\u001b[0;34m,\u001b[0m \u001b[0mint\u001b[0m\u001b[0;34m)\u001b[0m\u001b[0;34m:\u001b[0m\u001b[0;34m\u001b[0m\u001b[0;34m\u001b[0m\u001b[0m\n\u001b[1;32m   4819\u001b[0m             \u001b[0;32mraise\u001b[0m \u001b[0mTypeError\u001b[0m\u001b[0;34m(\u001b[0m\u001b[0;34m\"loc must be int\"\u001b[0m\u001b[0;34m)\u001b[0m\u001b[0;34m\u001b[0m\u001b[0;34m\u001b[0m\u001b[0m\n\u001b[1;32m   4820\u001b[0m \u001b[0;34m\u001b[0m\u001b[0m\n",
      "\u001b[0;31mValueError\u001b[0m: cannot insert Recording, already exists"
     ]
    }
   ],
   "source": [
    "self.csc_data = csc_data\n",
    "self.csc_data.index.name = 'Time (neuralynx)'\n",
    "self.csc_data.insert(loc=0,column=\"Recording\",value=rec_var)\n",
    "self.csc_data.insert(loc=0,column=\"Time (sec)\",value=times_data)"
   ]
  },
  {
   "cell_type": "code",
   "execution_count": 51,
   "metadata": {},
   "outputs": [
    {
     "data": {
      "text/html": [
       "<div>\n",
       "<style scoped>\n",
       "    .dataframe tbody tr th:only-of-type {\n",
       "        vertical-align: middle;\n",
       "    }\n",
       "\n",
       "    .dataframe tbody tr th {\n",
       "        vertical-align: top;\n",
       "    }\n",
       "\n",
       "    .dataframe thead th {\n",
       "        text-align: right;\n",
       "    }\n",
       "</style>\n",
       "<table border=\"1\" class=\"dataframe\">\n",
       "  <thead>\n",
       "    <tr style=\"text-align: right;\">\n",
       "      <th></th>\n",
       "      <th>Recording</th>\n",
       "      <th>0</th>\n",
       "      <th>1</th>\n",
       "      <th>2</th>\n",
       "      <th>3</th>\n",
       "      <th>4</th>\n",
       "      <th>5</th>\n",
       "      <th>6</th>\n",
       "      <th>7</th>\n",
       "      <th>8</th>\n",
       "      <th>9</th>\n",
       "      <th>10</th>\n",
       "      <th>11</th>\n",
       "      <th>12</th>\n",
       "      <th>13</th>\n",
       "      <th>14</th>\n",
       "      <th>15</th>\n",
       "    </tr>\n",
       "    <tr>\n",
       "      <th>Time (neuralynx)</th>\n",
       "      <th></th>\n",
       "      <th></th>\n",
       "      <th></th>\n",
       "      <th></th>\n",
       "      <th></th>\n",
       "      <th></th>\n",
       "      <th></th>\n",
       "      <th></th>\n",
       "      <th></th>\n",
       "      <th></th>\n",
       "      <th></th>\n",
       "      <th></th>\n",
       "      <th></th>\n",
       "      <th></th>\n",
       "      <th></th>\n",
       "      <th></th>\n",
       "      <th></th>\n",
       "    </tr>\n",
       "  </thead>\n",
       "  <tbody>\n",
       "    <tr>\n",
       "      <th>8145.353771</th>\n",
       "      <td>1.0</td>\n",
       "      <td>-22.797327</td>\n",
       "      <td>-26.459549</td>\n",
       "      <td>-18.524736</td>\n",
       "      <td>-25.849178</td>\n",
       "      <td>8.728294</td>\n",
       "      <td>-80.355240</td>\n",
       "      <td>28.595844</td>\n",
       "      <td>-35.370953</td>\n",
       "      <td>-29.236732</td>\n",
       "      <td>-78.859833</td>\n",
       "      <td>-97.323532</td>\n",
       "      <td>-69.429611</td>\n",
       "      <td>-2.990814</td>\n",
       "      <td>1.159703</td>\n",
       "      <td>-2.044740</td>\n",
       "      <td>39.826656</td>\n",
       "    </tr>\n",
       "    <tr>\n",
       "      <th>8145.353802</th>\n",
       "      <td>1.0</td>\n",
       "      <td>-25.513475</td>\n",
       "      <td>-28.229622</td>\n",
       "      <td>-16.113773</td>\n",
       "      <td>-26.276438</td>\n",
       "      <td>24.201180</td>\n",
       "      <td>-80.843536</td>\n",
       "      <td>27.802362</td>\n",
       "      <td>-33.173622</td>\n",
       "      <td>-31.678213</td>\n",
       "      <td>-68.758202</td>\n",
       "      <td>-85.024567</td>\n",
       "      <td>-58.534504</td>\n",
       "      <td>3.967406</td>\n",
       "      <td>5.706962</td>\n",
       "      <td>-4.425184</td>\n",
       "      <td>35.981323</td>\n",
       "    </tr>\n",
       "    <tr>\n",
       "      <th>8145.353834</th>\n",
       "      <td>1.0</td>\n",
       "      <td>-17.334515</td>\n",
       "      <td>-29.419844</td>\n",
       "      <td>-17.700735</td>\n",
       "      <td>-27.100437</td>\n",
       "      <td>20.111698</td>\n",
       "      <td>-92.257454</td>\n",
       "      <td>28.565325</td>\n",
       "      <td>-35.340435</td>\n",
       "      <td>-34.424881</td>\n",
       "      <td>-59.633171</td>\n",
       "      <td>-78.981903</td>\n",
       "      <td>-56.855984</td>\n",
       "      <td>-1.190222</td>\n",
       "      <td>6.347850</td>\n",
       "      <td>-8.606220</td>\n",
       "      <td>25.513475</td>\n",
       "    </tr>\n",
       "    <tr>\n",
       "      <th>8145.353865</th>\n",
       "      <td>1.0</td>\n",
       "      <td>-6.897183</td>\n",
       "      <td>-29.236732</td>\n",
       "      <td>-20.355846</td>\n",
       "      <td>-27.771845</td>\n",
       "      <td>1.678518</td>\n",
       "      <td>-103.274643</td>\n",
       "      <td>28.015993</td>\n",
       "      <td>-41.993469</td>\n",
       "      <td>-33.906067</td>\n",
       "      <td>-54.078800</td>\n",
       "      <td>-85.970642</td>\n",
       "      <td>-65.065468</td>\n",
       "      <td>-13.092441</td>\n",
       "      <td>1.861629</td>\n",
       "      <td>-10.528886</td>\n",
       "      <td>21.362957</td>\n",
       "    </tr>\n",
       "    <tr>\n",
       "      <th>8145.353896</th>\n",
       "      <td>1.0</td>\n",
       "      <td>-9.491257</td>\n",
       "      <td>-29.786066</td>\n",
       "      <td>-23.895994</td>\n",
       "      <td>-27.893919</td>\n",
       "      <td>-12.390515</td>\n",
       "      <td>-108.432266</td>\n",
       "      <td>25.696587</td>\n",
       "      <td>-46.357616</td>\n",
       "      <td>-31.586658</td>\n",
       "      <td>-51.576283</td>\n",
       "      <td>-96.346939</td>\n",
       "      <td>-81.850647</td>\n",
       "      <td>-21.820734</td>\n",
       "      <td>-3.082370</td>\n",
       "      <td>-8.270516</td>\n",
       "      <td>23.651846</td>\n",
       "    </tr>\n",
       "    <tr>\n",
       "      <th>...</th>\n",
       "      <td>...</td>\n",
       "      <td>...</td>\n",
       "      <td>...</td>\n",
       "      <td>...</td>\n",
       "      <td>...</td>\n",
       "      <td>...</td>\n",
       "      <td>...</td>\n",
       "      <td>...</td>\n",
       "      <td>...</td>\n",
       "      <td>...</td>\n",
       "      <td>...</td>\n",
       "      <td>...</td>\n",
       "      <td>...</td>\n",
       "      <td>...</td>\n",
       "      <td>...</td>\n",
       "      <td>...</td>\n",
       "      <td>...</td>\n",
       "    </tr>\n",
       "    <tr>\n",
       "      <th>9466.121646</th>\n",
       "      <td>2.0</td>\n",
       "      <td>-2.075259</td>\n",
       "      <td>-0.854518</td>\n",
       "      <td>-25.727104</td>\n",
       "      <td>8.392591</td>\n",
       "      <td>-2.655110</td>\n",
       "      <td>42.634357</td>\n",
       "      <td>-28.443253</td>\n",
       "      <td>20.447401</td>\n",
       "      <td>33.234657</td>\n",
       "      <td>11.139256</td>\n",
       "      <td>26.490067</td>\n",
       "      <td>3.387555</td>\n",
       "      <td>51.698357</td>\n",
       "      <td>42.695396</td>\n",
       "      <td>18.463699</td>\n",
       "      <td>34.516434</td>\n",
       "    </tr>\n",
       "    <tr>\n",
       "      <th>9466.121677</th>\n",
       "      <td>2.0</td>\n",
       "      <td>-1.068148</td>\n",
       "      <td>-5.340739</td>\n",
       "      <td>-26.123844</td>\n",
       "      <td>7.324442</td>\n",
       "      <td>-3.418073</td>\n",
       "      <td>37.842953</td>\n",
       "      <td>-31.037325</td>\n",
       "      <td>20.203255</td>\n",
       "      <td>32.959991</td>\n",
       "      <td>17.761772</td>\n",
       "      <td>19.409773</td>\n",
       "      <td>12.085330</td>\n",
       "      <td>37.720879</td>\n",
       "      <td>34.577473</td>\n",
       "      <td>9.338664</td>\n",
       "      <td>32.685326</td>\n",
       "    </tr>\n",
       "    <tr>\n",
       "      <th>9466.121709</th>\n",
       "      <td>2.0</td>\n",
       "      <td>1.037629</td>\n",
       "      <td>-9.613331</td>\n",
       "      <td>-22.370068</td>\n",
       "      <td>6.958220</td>\n",
       "      <td>-3.173925</td>\n",
       "      <td>38.087101</td>\n",
       "      <td>-26.245918</td>\n",
       "      <td>25.666067</td>\n",
       "      <td>38.178658</td>\n",
       "      <td>28.656881</td>\n",
       "      <td>22.064882</td>\n",
       "      <td>26.093327</td>\n",
       "      <td>37.171547</td>\n",
       "      <td>24.292734</td>\n",
       "      <td>6.317332</td>\n",
       "      <td>32.135990</td>\n",
       "    </tr>\n",
       "    <tr>\n",
       "      <th>9466.121740</th>\n",
       "      <td>2.0</td>\n",
       "      <td>2.288888</td>\n",
       "      <td>-15.869625</td>\n",
       "      <td>-15.503404</td>\n",
       "      <td>9.369183</td>\n",
       "      <td>-0.824000</td>\n",
       "      <td>47.029026</td>\n",
       "      <td>-16.907255</td>\n",
       "      <td>34.699547</td>\n",
       "      <td>47.578358</td>\n",
       "      <td>34.791103</td>\n",
       "      <td>29.145178</td>\n",
       "      <td>34.302807</td>\n",
       "      <td>43.427841</td>\n",
       "      <td>21.027254</td>\n",
       "      <td>14.374218</td>\n",
       "      <td>26.642660</td>\n",
       "    </tr>\n",
       "    <tr>\n",
       "      <th>9466.121771</th>\n",
       "      <td>2.0</td>\n",
       "      <td>-6.134221</td>\n",
       "      <td>-32.013916</td>\n",
       "      <td>-20.752586</td>\n",
       "      <td>6.042665</td>\n",
       "      <td>0.701926</td>\n",
       "      <td>50.935394</td>\n",
       "      <td>-20.142218</td>\n",
       "      <td>31.311991</td>\n",
       "      <td>46.998505</td>\n",
       "      <td>26.581623</td>\n",
       "      <td>24.048586</td>\n",
       "      <td>25.879696</td>\n",
       "      <td>34.943695</td>\n",
       "      <td>15.350811</td>\n",
       "      <td>16.632587</td>\n",
       "      <td>7.965331</td>\n",
       "    </tr>\n",
       "  </tbody>\n",
       "</table>\n",
       "<p>40848770 rows × 17 columns</p>\n",
       "</div>"
      ],
      "text/plain": [
       "             Recording          0          1          2          3          4  \\\n",
       "Time (s)                                                                        \n",
       "8145.353771        1.0 -22.797327 -26.459549 -18.524736 -25.849178   8.728294   \n",
       "8145.353802        1.0 -25.513475 -28.229622 -16.113773 -26.276438  24.201180   \n",
       "8145.353834        1.0 -17.334515 -29.419844 -17.700735 -27.100437  20.111698   \n",
       "8145.353865        1.0  -6.897183 -29.236732 -20.355846 -27.771845   1.678518   \n",
       "8145.353896        1.0  -9.491257 -29.786066 -23.895994 -27.893919 -12.390515   \n",
       "...                ...        ...        ...        ...        ...        ...   \n",
       "9466.121646        2.0  -2.075259  -0.854518 -25.727104   8.392591  -2.655110   \n",
       "9466.121677        2.0  -1.068148  -5.340739 -26.123844   7.324442  -3.418073   \n",
       "9466.121709        2.0   1.037629  -9.613331 -22.370068   6.958220  -3.173925   \n",
       "9466.121740        2.0   2.288888 -15.869625 -15.503404   9.369183  -0.824000   \n",
       "9466.121771        2.0  -6.134221 -32.013916 -20.752586   6.042665   0.701926   \n",
       "\n",
       "                      5          6          7          8          9  \\\n",
       "Time (s)                                                              \n",
       "8145.353771  -80.355240  28.595844 -35.370953 -29.236732 -78.859833   \n",
       "8145.353802  -80.843536  27.802362 -33.173622 -31.678213 -68.758202   \n",
       "8145.353834  -92.257454  28.565325 -35.340435 -34.424881 -59.633171   \n",
       "8145.353865 -103.274643  28.015993 -41.993469 -33.906067 -54.078800   \n",
       "8145.353896 -108.432266  25.696587 -46.357616 -31.586658 -51.576283   \n",
       "...                 ...        ...        ...        ...        ...   \n",
       "9466.121646   42.634357 -28.443253  20.447401  33.234657  11.139256   \n",
       "9466.121677   37.842953 -31.037325  20.203255  32.959991  17.761772   \n",
       "9466.121709   38.087101 -26.245918  25.666067  38.178658  28.656881   \n",
       "9466.121740   47.029026 -16.907255  34.699547  47.578358  34.791103   \n",
       "9466.121771   50.935394 -20.142218  31.311991  46.998505  26.581623   \n",
       "\n",
       "                    10         11         12         13         14         15  \n",
       "Time (s)                                                                       \n",
       "8145.353771 -97.323532 -69.429611  -2.990814   1.159703  -2.044740  39.826656  \n",
       "8145.353802 -85.024567 -58.534504   3.967406   5.706962  -4.425184  35.981323  \n",
       "8145.353834 -78.981903 -56.855984  -1.190222   6.347850  -8.606220  25.513475  \n",
       "8145.353865 -85.970642 -65.065468 -13.092441   1.861629 -10.528886  21.362957  \n",
       "8145.353896 -96.346939 -81.850647 -21.820734  -3.082370  -8.270516  23.651846  \n",
       "...                ...        ...        ...        ...        ...        ...  \n",
       "9466.121646  26.490067   3.387555  51.698357  42.695396  18.463699  34.516434  \n",
       "9466.121677  19.409773  12.085330  37.720879  34.577473   9.338664  32.685326  \n",
       "9466.121709  22.064882  26.093327  37.171547  24.292734   6.317332  32.135990  \n",
       "9466.121740  29.145178  34.302807  43.427841  21.027254  14.374218  26.642660  \n",
       "9466.121771  24.048586  25.879696  34.943695  15.350811  16.632587   7.965331  \n",
       "\n",
       "[40848770 rows x 17 columns]"
      ]
     },
     "execution_count": 51,
     "metadata": {},
     "output_type": "execute_result"
    }
   ],
   "source": [
    "self.csc_data"
   ]
  },
  {
   "cell_type": "code",
   "execution_count": 52,
   "metadata": {},
   "outputs": [],
   "source": [
    "self.csc_data.insert(loc=0,column=\"Time (sec)\",value=times_data)"
   ]
  },
  {
   "cell_type": "code",
   "execution_count": 53,
   "metadata": {},
   "outputs": [],
   "source": [
    "self.csc_data"
   ]
  }
 ],
 "metadata": {
  "kernelspec": {
   "display_name": "decode_lab_env",
   "language": "python",
   "name": "python3"
  },
  "language_info": {
   "codemirror_mode": {
    "name": "ipython",
    "version": 3
   },
   "file_extension": ".py",
   "mimetype": "text/x-python",
   "name": "python",
   "nbconvert_exporter": "python",
   "pygments_lexer": "ipython3",
   "version": "3.9.18"
  }
 },
 "nbformat": 4,
 "nbformat_minor": 2
}
